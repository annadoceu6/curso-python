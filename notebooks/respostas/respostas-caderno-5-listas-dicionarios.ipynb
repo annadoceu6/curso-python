{
 "cells": [
  {
   "cell_type": "markdown",
   "metadata": {},
   "source": [
    "<img src=\"../../images/listas-dicionarios.png\">\n",
    "\n",
    "\n",
    "- [5. Estruturas de dados - Documentação oficial](https://docs.python.org/pt-br/3/tutorial/datastructures.html)\n",
    "- [5.5. Dicionários - Documentação oficial](https://docs.python.org/pt-br/3/tutorial/datastructures.html#dictionaries)\n",
    "\n",
    "> *Quando falamos em tipos de dados avançados em Python estamos nos referindo a uma forma nova de guardar nossas informações.  \n",
    "Antes, nós guardávamos todas as nossas informações sobre o mundo de forma que 1 variável guardava apenas 1 valor, e esse valor era ou uma string `(str)` ou um número inteiro `(int)`ou um número decimal `(float)` ou um valor booleano `(bool)`.*  \n",
    "\n",
    "```python\n",
    "nome = 'Aya'\n",
    "idade = 25\n",
    "media = 8.5\n",
    "```\n",
    "\n",
    "> *Mas agora estamos falando de uma mesma variável que pode guardar diversas informações dentro dela mesma e cada informação pode ser de um tipo diferente.*\n",
    "\n",
    "## Listas\n",
    "\n",
    "> São objetos (variáveis) com elementos ordenados por uma posição."
   ]
  },
  {
   "cell_type": "code",
   "execution_count": 11,
   "metadata": {},
   "outputs": [
    {
     "data": {
      "text/plain": [
       "[1, 2, 3, 4, 5]"
      ]
     },
     "execution_count": 11,
     "metadata": {},
     "output_type": "execute_result"
    }
   ],
   "source": [
    "lista = [1, 2, 3, 4, 5]\n",
    "\n",
    "lista"
   ]
  },
  {
   "cell_type": "code",
   "execution_count": 12,
   "metadata": {},
   "outputs": [
    {
     "data": {
      "text/plain": [
       "[85, 2, 3, 4, 5]"
      ]
     },
     "execution_count": 12,
     "metadata": {},
     "output_type": "execute_result"
    }
   ],
   "source": [
    "lista[0] = 85\n",
    "\n",
    "lista"
   ]
  },
  {
   "cell_type": "code",
   "execution_count": 13,
   "metadata": {},
   "outputs": [
    {
     "data": {
      "text/plain": [
       "['Laranja', 25, True, 'Casa', 7.2, [85, 2, 3, 4, 5]]"
      ]
     },
     "execution_count": 13,
     "metadata": {},
     "output_type": "execute_result"
    }
   ],
   "source": [
    "novaLista = ['Laranja', 25, True, 'Casa', 7.2, lista]\n",
    "\n",
    "novaLista"
   ]
  },
  {
   "cell_type": "code",
   "execution_count": 14,
   "metadata": {},
   "outputs": [
    {
     "name": "stdout",
     "output_type": "stream",
     "text": [
      "Laranja\n",
      "25\n",
      "True\n",
      "Casa\n",
      "7.2\n",
      "[85, 2, 3, 4, 5]\n"
     ]
    }
   ],
   "source": [
    "for item in novaLista:\n",
    "    print(item)"
   ]
  },
  {
   "cell_type": "code",
   "execution_count": 16,
   "metadata": {},
   "outputs": [
    {
     "data": {
      "text/plain": [
       "[85, 2, 3, 4, 5, 6]"
      ]
     },
     "execution_count": 16,
     "metadata": {},
     "output_type": "execute_result"
    }
   ],
   "source": [
    "lista.append(6)\n",
    "\n",
    "lista"
   ]
  },
  {
   "cell_type": "code",
   "execution_count": 17,
   "metadata": {},
   "outputs": [
    {
     "data": {
      "text/plain": [
       "[85, 2, 3, 4, 6]"
      ]
     },
     "execution_count": 17,
     "metadata": {},
     "output_type": "execute_result"
    }
   ],
   "source": [
    "lista.remove(5)\n",
    "\n",
    "lista"
   ]
  },
  {
   "cell_type": "code",
   "execution_count": 18,
   "metadata": {},
   "outputs": [
    {
     "data": {
      "text/plain": [
       "5"
      ]
     },
     "execution_count": 18,
     "metadata": {},
     "output_type": "execute_result"
    }
   ],
   "source": [
    "len(lista)"
   ]
  },
  {
   "cell_type": "code",
   "execution_count": 19,
   "metadata": {},
   "outputs": [
    {
     "data": {
      "text/plain": [
       "3"
      ]
     },
     "execution_count": 19,
     "metadata": {},
     "output_type": "execute_result"
    }
   ],
   "source": [
    "lista.pop(2)"
   ]
  },
  {
   "cell_type": "markdown",
   "metadata": {},
   "source": [
    "## Dicionários\n",
    "\n",
    "> São objetos (variáveis) que guarda elemento a partir de uma estrutura de `chave: valor`."
   ]
  },
  {
   "cell_type": "code",
   "execution_count": 20,
   "metadata": {},
   "outputs": [
    {
     "data": {
      "text/plain": [
       "{1: 'Pizza quatro queijos', 2: 'Moqueca de camarão', 3: 'Comida baiana'}"
      ]
     },
     "execution_count": 20,
     "metadata": {},
     "output_type": "execute_result"
    }
   ],
   "source": [
    "pedidos = {1: 'Pizza quatro queijos', 2: 'Moqueca de camarão'}\n",
    "\n",
    "pedidos[3] = 'Comida baiana'\n",
    "\n",
    "pedidos"
   ]
  },
  {
   "cell_type": "code",
   "execution_count": 18,
   "metadata": {},
   "outputs": [],
   "source": [
    "pedidos.get(0)"
   ]
  },
  {
   "cell_type": "code",
   "execution_count": 19,
   "metadata": {},
   "outputs": [
    {
     "data": {
      "text/plain": [
       "'Pizza quatro queijos'"
      ]
     },
     "execution_count": 19,
     "metadata": {},
     "output_type": "execute_result"
    }
   ],
   "source": [
    "pedidos.get(1)"
   ]
  },
  {
   "cell_type": "code",
   "execution_count": 20,
   "metadata": {},
   "outputs": [
    {
     "data": {
      "text/plain": [
       "dict_keys([1, 2, 3])"
      ]
     },
     "execution_count": 20,
     "metadata": {},
     "output_type": "execute_result"
    }
   ],
   "source": [
    "pedidos.keys()"
   ]
  },
  {
   "cell_type": "code",
   "execution_count": 21,
   "metadata": {},
   "outputs": [
    {
     "data": {
      "text/plain": [
       "dict_values(['Pizza quatro queijos', 'Moqueca de camarão', 'Comida baiana'])"
      ]
     },
     "execution_count": 21,
     "metadata": {},
     "output_type": "execute_result"
    }
   ],
   "source": [
    "pedidos.values()"
   ]
  },
  {
   "cell_type": "markdown",
   "metadata": {},
   "source": [
    "## Exercícios"
   ]
  },
  {
   "cell_type": "markdown",
   "metadata": {},
   "source": [
    "1) Usando o conhecimento da aula de hoje, faça um programa que leia 3 números e informe o maior número.\n",
    "\n",
    "Dica: [2. Funções Built-in - Documentação Python](https://docs.python.org/pt-br/3.6/library/functions.html)"
   ]
  },
  {
   "cell_type": "code",
   "execution_count": 5,
   "metadata": {},
   "outputs": [
    {
     "name": "stdout",
     "output_type": "stream",
     "text": [
      "Entre com o 1ª número: 25\n",
      "Entre com o 1ª número: 60\n",
      "Entre com o 1ª número: 88\n",
      "\n",
      "88 é o maior número\n"
     ]
    }
   ],
   "source": [
    "lista = []\n",
    "\n",
    "for item in range(1, 4):\n",
    "    numero = int(input('Entre com o 1ª número: '))\n",
    "    lista.append(numero)\n",
    "    \n",
    "print('\\n{} é o maior número'.format(max(lista)))"
   ]
  },
  {
   "cell_type": "markdown",
   "metadata": {},
   "source": [
    "2) Faça um programa que receba dois números inteiros e gere os números inteiros que estão no intervalo compreendido por eles."
   ]
  },
  {
   "cell_type": "code",
   "execution_count": 6,
   "metadata": {},
   "outputs": [
    {
     "name": "stdout",
     "output_type": "stream",
     "text": [
      "Entre com o 1ª número: 2\n",
      "Entre com o 2ª número: 5\n",
      "\n",
      "Intervalo entre os números informados:\n",
      "\n",
      "2\n",
      "3\n",
      "4\n",
      "5\n"
     ]
    }
   ],
   "source": [
    "numInicial = int(input('Entre com o 1ª número: '))\n",
    "numFinal = int(input('Entre com o 2ª número: '))\n",
    "\n",
    "print('\\nIntervalo entre os números informados:\\n')\n",
    "\n",
    "for item in range(numInicial, numFinal+1):\n",
    "    print(item)"
   ]
  },
  {
   "cell_type": "markdown",
   "metadata": {},
   "source": [
    "3) Altere o programa anterior para mostrar no final a soma dos números."
   ]
  },
  {
   "cell_type": "code",
   "execution_count": 8,
   "metadata": {},
   "outputs": [
    {
     "name": "stdout",
     "output_type": "stream",
     "text": [
      "Entre com o 1ª número: 1\n",
      "Entre com o 2ª número: 3\n",
      "\n",
      "A soma do intervalo entre os números informados é igual a 6\n"
     ]
    }
   ],
   "source": [
    "numInicial = int(input('Entre com o 1ª número: '))\n",
    "numFinal = int(input('Entre com o 2ª número: '))\n",
    "\n",
    "soma = 0\n",
    "\n",
    "for item in range(numInicial, numFinal+1):\n",
    "    soma = soma + item\n",
    "    \n",
    "print('\\nA soma do intervalo entre os números informados é igual a', soma)"
   ]
  },
  {
   "cell_type": "markdown",
   "metadata": {},
   "source": [
    "4) Faça um programa que inicialize uma lista vazia e solicite a usuária 3 nomes de cidades, um por vez, cada vez que a usuária digitar um nome, o programa deve incluir este nome na lista de cidades."
   ]
  },
  {
   "cell_type": "code",
   "execution_count": 23,
   "metadata": {},
   "outputs": [
    {
     "name": "stdout",
     "output_type": "stream",
     "text": [
      "Informe o nome da cidade: Salvador\n",
      "Informe o nome da cidade: Aracaju\n",
      "Informe o nome da cidade: Campina Grande\n",
      "\n",
      "Lista de cidades é: ['Salvador', 'Aracaju', 'Campina Grande']\n"
     ]
    }
   ],
   "source": [
    "lista = []\n",
    "\n",
    "for item in range(0,3):\n",
    "    cidade = input('Informe o nome da cidade: ')\n",
    "    lista.append(cidade)\n",
    "    \n",
    "print('\\nLista de cidades:', lista)"
   ]
  },
  {
   "cell_type": "markdown",
   "metadata": {},
   "source": [
    "5) Faça um programa que inicialize uma lista com vários números diferentes, depois disso, solicite ao usuário um número, verifique se o número está ou não na lista e exiba uma mensagem notificando o usuário do resultado."
   ]
  },
  {
   "cell_type": "code",
   "execution_count": 36,
   "metadata": {},
   "outputs": [
    {
     "name": "stdout",
     "output_type": "stream",
     "text": [
      "Informe um número: 42\n",
      "\n",
      "O número 42 está na lista!\n"
     ]
    }
   ],
   "source": [
    "num = int(input('Informe um número: '))\n",
    "\n",
    "if num in range(0, 50, 7):\n",
    "    print('\\nO número {} está na lista!'.format(num))\n",
    "else:\n",
    "    print('\\nO número {} não está na lista!'.format(num))"
   ]
  },
  {
   "cell_type": "markdown",
   "metadata": {},
   "source": [
    "5.1) Quais são os valores que a instrução `range(0, 50, 7)`retorna?"
   ]
  },
  {
   "cell_type": "markdown",
   "metadata": {},
   "source": [
    "> Conheça: [Entendendo o desempacotamento no Python | Alura - Yuri Matheus](https://www.alura.com.br/artigos/entendendo-o-desempacotamento-no-python)"
   ]
  },
  {
   "cell_type": "code",
   "execution_count": 37,
   "metadata": {},
   "outputs": [
    {
     "data": {
      "text/plain": [
       "[0, 7, 14, 21, 28, 35, 42, 49]"
      ]
     },
     "execution_count": 37,
     "metadata": {},
     "output_type": "execute_result"
    }
   ],
   "source": [
    "listaNumeros = list(range(0, 50, 7))\n",
    "\n",
    "listaNumeros"
   ]
  },
  {
   "cell_type": "markdown",
   "metadata": {},
   "source": [
    "6) Escreva um programa para armazenar uma agenda de telefones em um dicionário. Cada pessoa pode ter um ou mais telefones e a chave do dicionário é o nome da pessoa.  \n",
    "\n",
    "\n",
    "Para testar sua agenda você deve fazer as seguintes operaçoes:\n",
    "\n",
    "1. Adicionar um novo nome na agenda, com um ou mais telefones.  \n",
    "2. Adicionar um telefone em um nome já existente na agenda. \n",
    "3. Exclui um telefone de uma pessoa que já está na agenda. Se a pessoa tiver apenas um telefone, ela deve ser excluída da agenda.\n",
    "4. Excluir uma pessoa da agenda.\n",
    "5. Consultar os telefones de uma pessoa na agenda.\n"
   ]
  },
  {
   "cell_type": "code",
   "execution_count": 61,
   "metadata": {},
   "outputs": [],
   "source": [
    "agenda = {}"
   ]
  },
  {
   "cell_type": "code",
   "execution_count": 63,
   "metadata": {},
   "outputs": [
    {
     "name": "stdout",
     "output_type": "stream",
     "text": [
      "\n",
      "> Cadastrando novo contato:\n",
      "Nome: Carol\n",
      "\n",
      "Informe um telefone por vez. Para sair da adição de telefone digite 0:\n",
      "Telefone: (71) 8888\n",
      "Telefone: (71) 9595\n",
      "Telefone: 0\n",
      "Contato cadastrado com sucesso!\n"
     ]
    }
   ],
   "source": [
    "print('\\n> Cadastrando novo contato:')\n",
    "\n",
    "telefones = []\n",
    "nome = input('Nome: ')\n",
    "\n",
    "print('\\nInforme um telefone por vez. Para sair da adição de telefone digite 0:')\n",
    "\n",
    "while(True):\n",
    "    telefone = input('Telefone: ')\n",
    "    if telefone == '0':\n",
    "        break\n",
    "    telefones.append(telefone)\n",
    "\n",
    "agenda[nome] = telefones\n",
    "print('Contato cadastrado com sucesso!')"
   ]
  },
  {
   "cell_type": "code",
   "execution_count": 64,
   "metadata": {},
   "outputs": [
    {
     "name": "stdout",
     "output_type": "stream",
     "text": [
      "\n",
      "> Adicionando telefone a um contato: \n",
      "Informe o nome: Aya\n",
      "Informe novo telefone: (75) 8585\n",
      "\n",
      "Telefone adicionado com sucesso! A lista atualizada de telefones de Aya é: \n",
      "['(71) 1234', '(71) 1212', '(75) 8585']\n"
     ]
    }
   ],
   "source": [
    "print('\\n> Adicionando telefone a um contato: ')\n",
    "\n",
    "nome = input('Informe o nome: ')\n",
    "\n",
    "telefones = agenda.get(nome)\n",
    "telefone = input('Informe novo telefone: ')\n",
    "telefones.append(telefone)\n",
    "agenda[nome] = telefones\n",
    "print(f'\\nTelefone adicionado com sucesso! A lista atualizada de telefones de {nome} é: \\n{agenda[nome]}')"
   ]
  },
  {
   "cell_type": "code",
   "execution_count": 65,
   "metadata": {},
   "outputs": [
    {
     "name": "stdout",
     "output_type": "stream",
     "text": [
      "\n",
      "> Deletando telefone de um contato: \n",
      "Informe o nome: Aya\n",
      "\n",
      "Aya possui os seguintes telefones: ['(71) 1234', '(71) 1212', '(75) 8585']\n",
      "Qual telefone deseja deletar? (71) 1234\n",
      "\n",
      "Telefone deletado com sucesso! A lista atualizada de telefones de Aya é: \n",
      "['(71) 1212', '(75) 8585']\n"
     ]
    }
   ],
   "source": [
    "print('\\n> Deletando telefone de um contato: ')\n",
    "\n",
    "nome = input('Informe o nome: ')\n",
    "\n",
    "if agenda.get(nome) is None:\n",
    "    print('Esse contato não está cadastrado!')\n",
    "else:\n",
    "    telefones = agenda.get(nome)\n",
    "    print(f'\\n{nome} possui os seguintes telefones: {agenda[nome]}')\n",
    "    \n",
    "    telefone = input('Qual telefone deseja deletar? ')\n",
    "    \n",
    "    telefones.remove(telefone)\n",
    "    agenda[nome] = telefones\n",
    "    print(f'\\nTelefone deletado com sucesso! A lista atualizada de telefones de {nome} é: \\n{agenda[nome]}')"
   ]
  },
  {
   "cell_type": "code",
   "execution_count": 66,
   "metadata": {},
   "outputs": [
    {
     "name": "stdout",
     "output_type": "stream",
     "text": [
      "\n",
      "> Deletando contato: \n",
      "Informe o nome: Aya\n",
      "\n",
      "Contato deletado com sucesso! A agenda atualuzada é: \n",
      "dict_keys(['Carol'])\n"
     ]
    }
   ],
   "source": [
    "print('\\n> Deletando contato: ')\n",
    "\n",
    "nome = input('Informe o nome: ')\n",
    "\n",
    "agenda.pop(nome)\n",
    "\n",
    "if agenda:\n",
    "    print(f'\\nContato deletado com sucesso! A agenda atualizada é: \\n{list(agenda.keys())}')\n",
    "else:\n",
    "    print('\\nNesse momento a agenda está vazia =(')"
   ]
  },
  {
   "cell_type": "code",
   "execution_count": 67,
   "metadata": {},
   "outputs": [
    {
     "name": "stdout",
     "output_type": "stream",
     "text": [
      "\n",
      "> Exibindo informações do contato: \n",
      "Informe o nome: Carol\n",
      "\n",
      "Carol possui os seguintes telefones: ['(71) 8888', '(71) 9595']\n"
     ]
    }
   ],
   "source": [
    "print('\\n> Exibindo informações do contato: ')\n",
    "\n",
    "nome = input('Informe o nome: ')\n",
    "\n",
    "print(f'\\n{nome} possui os seguintes telefones: {agenda[nome]}')"
   ]
  },
  {
   "cell_type": "markdown",
   "metadata": {},
   "source": [
    "---\n",
    "\n",
    "## Quais são as outras formas de praticar esses conceitos?\n",
    "\n",
    "<img src=\"https://media.giphy.com/media/0AA2LiChVmvxt8v1HB/giphy.gif\" align=\"left\">"
   ]
  },
  {
   "cell_type": "markdown",
   "metadata": {},
   "source": [
    "<Adicionar atividade de sua preferência para aplicação dos conceitos>"
   ]
  }
 ],
 "metadata": {
  "kernelspec": {
   "display_name": "Python 3 (ipykernel)",
   "language": "python",
   "name": "python3"
  },
  "language_info": {
   "codemirror_mode": {
    "name": "ipython",
    "version": 3
   },
   "file_extension": ".py",
   "mimetype": "text/x-python",
   "name": "python",
   "nbconvert_exporter": "python",
   "pygments_lexer": "ipython3",
   "version": "3.10.9"
  }
 },
 "nbformat": 4,
 "nbformat_minor": 4
}
