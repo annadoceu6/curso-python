{
 "cells": [
  {
   "cell_type": "markdown",
   "metadata": {},
   "source": [
    "<img src=\"../../images/funcao.png\">\n",
    "\n",
    "## Exemplo de Funções"
   ]
  },
  {
   "cell_type": "code",
   "execution_count": 4,
   "metadata": {},
   "outputs": [
    {
     "data": {
      "text/plain": [
       "'Salvador'"
      ]
     },
     "execution_count": 4,
     "metadata": {},
     "output_type": "execute_result"
    }
   ],
   "source": [
    "cidade = 'salvador'\n",
    "cidade.title()"
   ]
  },
  {
   "cell_type": "code",
   "execution_count": 5,
   "metadata": {},
   "outputs": [
    {
     "data": {
      "text/plain": [
       "'SALVADOR'"
      ]
     },
     "execution_count": 5,
     "metadata": {},
     "output_type": "execute_result"
    }
   ],
   "source": [
    "cidade.upper()"
   ]
  },
  {
   "cell_type": "code",
   "execution_count": 6,
   "metadata": {},
   "outputs": [
    {
     "data": {
      "text/plain": [
       "8"
      ]
     },
     "execution_count": 6,
     "metadata": {},
     "output_type": "execute_result"
    }
   ],
   "source": [
    "len(cidade)"
   ]
  },
  {
   "cell_type": "code",
   "execution_count": 7,
   "metadata": {},
   "outputs": [
    {
     "name": "stdout",
     "output_type": "stream",
     "text": [
      "salvador\n"
     ]
    }
   ],
   "source": [
    "print(cidade)"
   ]
  },
  {
   "cell_type": "markdown",
   "metadata": {},
   "source": [
    "## Criando uma função"
   ]
  },
  {
   "cell_type": "markdown",
   "metadata": {},
   "source": [
    "### Função sem parâmetro"
   ]
  },
  {
   "cell_type": "code",
   "execution_count": 35,
   "metadata": {},
   "outputs": [],
   "source": [
    "def minha_funcao():\n",
    "    print('Minha primeira função =]')"
   ]
  },
  {
   "cell_type": "code",
   "execution_count": 36,
   "metadata": {},
   "outputs": [
    {
     "name": "stdout",
     "output_type": "stream",
     "text": [
      "Minha primeira função =]\n"
     ]
    }
   ],
   "source": [
    "minha_funcao()"
   ]
  },
  {
   "cell_type": "code",
   "execution_count": 37,
   "metadata": {},
   "outputs": [],
   "source": [
    "def minha_funcao_media():\n",
    "    primeiraNota = 10\n",
    "    segundaNota = 9\n",
    "    terceitaNota = 10\n",
    "\n",
    "    media = (primeiraNota + segundaNota + terceitaNota) / 3\n",
    "    \n",
    "    print('\\nA média das notas é: ', media)"
   ]
  },
  {
   "cell_type": "code",
   "execution_count": 39,
   "metadata": {},
   "outputs": [
    {
     "name": "stdout",
     "output_type": "stream",
     "text": [
      "\n",
      "A média das notas é:  9.666666666666666\n"
     ]
    }
   ],
   "source": [
    "minha_funcao_media()"
   ]
  },
  {
   "cell_type": "markdown",
   "metadata": {},
   "source": [
    "### Função sem parâmetro e com retorno"
   ]
  },
  {
   "cell_type": "code",
   "execution_count": 42,
   "metadata": {},
   "outputs": [],
   "source": [
    "def minha_funcao_media():\n",
    "    primeiraNota = 10\n",
    "    segundaNota = 9\n",
    "    terceitaNota = 10\n",
    "\n",
    "    media = (primeiraNota + segundaNota + terceitaNota) / 3\n",
    "    \n",
    "    return media"
   ]
  },
  {
   "cell_type": "code",
   "execution_count": 43,
   "metadata": {},
   "outputs": [
    {
     "data": {
      "text/plain": [
       "9.666666666666666"
      ]
     },
     "execution_count": 43,
     "metadata": {},
     "output_type": "execute_result"
    }
   ],
   "source": [
    "minha_funcao_media()"
   ]
  },
  {
   "cell_type": "markdown",
   "metadata": {},
   "source": [
    "> Ver e executar `codes/funcao_media.py`"
   ]
  },
  {
   "cell_type": "markdown",
   "metadata": {},
   "source": [
    "### Função com parâmetro e sem retorno"
   ]
  },
  {
   "cell_type": "code",
   "execution_count": 44,
   "metadata": {},
   "outputs": [],
   "source": [
    "def minha_funcao_media(primeiraNota, segundaNota, terceitaNota):\n",
    "    \n",
    "    media = (primeiraNota + segundaNota + terceitaNota) / 3\n",
    "    \n",
    "    print('\\nA média das notas é: ', media)"
   ]
  },
  {
   "cell_type": "code",
   "execution_count": 45,
   "metadata": {},
   "outputs": [
    {
     "ename": "TypeError",
     "evalue": "minha_funcao_media() missing 3 required positional arguments: 'primeiraNota', 'segundaNota', and 'terceitaNota'",
     "output_type": "error",
     "traceback": [
      "\u001b[0;31m---------------------------------------------------------------------------\u001b[0m",
      "\u001b[0;31mTypeError\u001b[0m                                 Traceback (most recent call last)",
      "Cell \u001b[0;32mIn[45], line 1\u001b[0m\n\u001b[0;32m----> 1\u001b[0m \u001b[43mminha_funcao_media\u001b[49m\u001b[43m(\u001b[49m\u001b[43m)\u001b[49m\n",
      "\u001b[0;31mTypeError\u001b[0m: minha_funcao_media() missing 3 required positional arguments: 'primeiraNota', 'segundaNota', and 'terceitaNota'"
     ]
    }
   ],
   "source": [
    "minha_funcao_media()"
   ]
  },
  {
   "cell_type": "code",
   "execution_count": 46,
   "metadata": {},
   "outputs": [
    {
     "ename": "TypeError",
     "evalue": "minha_funcao_media() missing 1 required positional argument: 'terceitaNota'",
     "output_type": "error",
     "traceback": [
      "\u001b[0;31m---------------------------------------------------------------------------\u001b[0m",
      "\u001b[0;31mTypeError\u001b[0m                                 Traceback (most recent call last)",
      "Cell \u001b[0;32mIn[46], line 1\u001b[0m\n\u001b[0;32m----> 1\u001b[0m \u001b[43mminha_funcao_media\u001b[49m\u001b[43m(\u001b[49m\u001b[38;5;241;43m10\u001b[39;49m\u001b[43m,\u001b[49m\u001b[43m \u001b[49m\u001b[38;5;241;43m8\u001b[39;49m\u001b[43m)\u001b[49m\n",
      "\u001b[0;31mTypeError\u001b[0m: minha_funcao_media() missing 1 required positional argument: 'terceitaNota'"
     ]
    }
   ],
   "source": [
    "minha_funcao_media(10, 8)"
   ]
  },
  {
   "cell_type": "code",
   "execution_count": 47,
   "metadata": {},
   "outputs": [
    {
     "name": "stdout",
     "output_type": "stream",
     "text": [
      "\n",
      "A média das notas é:  8.666666666666666\n"
     ]
    }
   ],
   "source": [
    "minha_funcao_media(10, 8, 8)"
   ]
  },
  {
   "cell_type": "markdown",
   "metadata": {},
   "source": [
    "### Função com parâmetro padrão e sem retorno"
   ]
  },
  {
   "cell_type": "code",
   "execution_count": 48,
   "metadata": {},
   "outputs": [],
   "source": [
    "def minha_funcao_media(primeiraNota=0, segundaNota=0, terceitaNota=0):\n",
    "    \n",
    "    media = (primeiraNota + segundaNota + terceitaNota) / 3\n",
    "    \n",
    "    print('\\nA média das notas é: ', media)"
   ]
  },
  {
   "cell_type": "code",
   "execution_count": 49,
   "metadata": {},
   "outputs": [
    {
     "name": "stdout",
     "output_type": "stream",
     "text": [
      "\n",
      "A média das notas é:  0.0\n"
     ]
    }
   ],
   "source": [
    "minha_funcao_media()"
   ]
  },
  {
   "cell_type": "markdown",
   "metadata": {},
   "source": [
    "### Função com parâmetro padrão e com retorno"
   ]
  },
  {
   "cell_type": "code",
   "execution_count": 50,
   "metadata": {},
   "outputs": [],
   "source": [
    "def minha_funcao_media(primeiraNota=0, segundaNota=0, terceitaNota=0):\n",
    "    \n",
    "    media = (primeiraNota + segundaNota + terceitaNota) / 3\n",
    "    \n",
    "    return media"
   ]
  },
  {
   "cell_type": "code",
   "execution_count": 51,
   "metadata": {},
   "outputs": [
    {
     "data": {
      "text/plain": [
       "0.0"
      ]
     },
     "execution_count": 51,
     "metadata": {},
     "output_type": "execute_result"
    }
   ],
   "source": [
    "minha_funcao_media()"
   ]
  },
  {
   "cell_type": "markdown",
   "metadata": {},
   "source": [
    "> Ver e executar `codes/funcao_media_param.py`"
   ]
  },
  {
   "cell_type": "markdown",
   "metadata": {},
   "source": [
    "## Exercícios"
   ]
  },
  {
   "cell_type": "markdown",
   "metadata": {},
   "source": [
    "1) Faça um código que receba 3 valores e calcule uma média. Você deve usar uma função para o cálculo da média."
   ]
  },
  {
   "cell_type": "code",
   "execution_count": 7,
   "metadata": {},
   "outputs": [],
   "source": [
    "def minha_funcao_media(primeiraNota=0, segundaNota=0, terceitaNota=0):\n",
    "    \n",
    "    media = (primeiraNota + segundaNota + terceitaNota) / 3\n",
    "    \n",
    "    return media"
   ]
  },
  {
   "cell_type": "code",
   "execution_count": 8,
   "metadata": {},
   "outputs": [
    {
     "name": "stdout",
     "output_type": "stream",
     "text": [
      "Entre com a 1ª nota: 8.4\n",
      "Entre com a 2ª nota: 5.5\n",
      "Entre com a 3ª nota: 10\n",
      "\n",
      "Média final é de 8.0!\n"
     ]
    }
   ],
   "source": [
    "nota1 = float(input('Entre com a 1ª nota: '))\n",
    "nota2 = float(input('Entre com a 2ª nota: '))\n",
    "nota3 = float(input('Entre com a 3ª nota: '))\n",
    "\n",
    "media = minha_funcao_media(nota1, nota2, nota3)\n",
    "\n",
    "print('\\nMédia final é de {0:.1f}!'.format(media))"
   ]
  },
  {
   "cell_type": "markdown",
   "metadata": {},
   "source": [
    "2) Faça um código que recebe um valor de salário e um percentual de aumento, qual é o novo valor de salário  \n",
    "após aplicar o percentual de aumento? Você deve usar uma função para o cálculo do novo salário."
   ]
  },
  {
   "cell_type": "code",
   "execution_count": 9,
   "metadata": {},
   "outputs": [],
   "source": [
    "def calculaAumento(salario, porcentagem):\n",
    "    aumento = salario * porcentagem\n",
    "    novoSalario = salario + aumento\n",
    "    \n",
    "    return novoSalario"
   ]
  },
  {
   "cell_type": "code",
   "execution_count": 11,
   "metadata": {},
   "outputs": [
    {
     "name": "stdout",
     "output_type": "stream",
     "text": [
      "Informe o salário atual: 3000\n",
      "Informe a porcentagem de aumento desejada: 0.5\n",
      "\n",
      "O novo salário é de: R$ 4500.0\n"
     ]
    }
   ],
   "source": [
    "salarioAtual = float(input('Informe o salário atual: '))\n",
    "porcentAumento = float(input('Informe a porcentagem de aumento desejada: '))\n",
    "\n",
    "print('\\nO novo salário é de: R$', calculaAumento(salarioAtual,porcentAumento))"
   ]
  },
  {
   "cell_type": "markdown",
   "metadata": {},
   "source": [
    "3) Escreva um programa para armazenar uma agenda de telefones em um dicionário. Cada pessoa pode ter um ou mais telefones e a chave do dicionário é o nome da pessoa. Seu programa deve ter as seguintes funções:\n",
    "\n",
    "- incluir_novo_nome – essa função acrescenta um novo nome na agenda, com um ou mais telefones. Ela deve receber como argumentos o nome e os telefones. ­\n",
    "- incluir_telefone – essa função acrescenta um telefone em um nome existente na agenda. Caso o nome não exista na agenda, você deve perguntar se a pessoa deseja incluí-­lo. Caso a resposta seja afirmativa, use a função anterior para incluir o novo nome. \n",
    "- excluir_telefone – essa função exclui um telefone de uma pessoa que já está na agenda. Se a pessoa tiver apenas um telefone, ela deve ser excluída da agenda. ­\n",
    "- excluir_nome – essa função exclui uma pessoa da agenda. ­\n",
    "- consultar_telefone – essa função retorna os telefones de uma pessoa na agenda."
   ]
  },
  {
   "cell_type": "code",
   "execution_count": 1,
   "metadata": {},
   "outputs": [],
   "source": [
    "agenda = {}"
   ]
  },
  {
   "cell_type": "code",
   "execution_count": 2,
   "metadata": {},
   "outputs": [],
   "source": [
    "# função da opção 1\n",
    "def adicionar_contato():\n",
    "  telefones = []\n",
    "  print('\\n> Cadastrando novo contato:')\n",
    "  nome = input('Nome: ')\n",
    "  print('\\nInforme um telefone por vez. Para sair da adição de telefone digite 0:')\n",
    "  while(True):\n",
    "    telefone = input('Telefone: ')\n",
    "    if telefone == '0':\n",
    "      break\n",
    "    telefones.append(telefone)\n",
    "\n",
    "  agenda[nome] = telefones\n",
    "  print('Contato cadastrado com sucesso!')\n",
    "\n",
    "# função da opção 2\n",
    "def adicionar_telefone():\n",
    "  print('\\n> Adicionando telefone a um contato: ')\n",
    "  nome = input('Informe o nome: ')\n",
    "  if agenda.get(nome) is None:\n",
    "    print('\\n>Esse contato não está cadastrado. Gostaria de adicionar?')\n",
    "    resposta = input('Informe Sim ou Não: ')\n",
    "    if resposta == 'Sim':\n",
    "      adicionar_contato()\n",
    "      return\n",
    "  \n",
    "  telefones = agenda.get(nome)\n",
    "  telefone = input('Informe novo telefone: ')\n",
    "  telefones.append(telefone)\n",
    "  agenda[nome] = telefones\n",
    "  print(f'\\nTelefone adicionado com sucesso! A lista atualizada de telefones de {nome} é: \\n{agenda[nome]}')\n",
    "\n",
    "# função da opção 3\n",
    "def deletar_telefone():\n",
    "  print('\\n> Deletando telefone de um contato: ')\n",
    "  nome = input('Informe o nome: ')\n",
    "  if agenda.get(nome) is None:\n",
    "    print('Esse contato não está cadastrado!')\n",
    "    return\n",
    "  \n",
    "  telefones = agenda.get(nome)\n",
    "  print(f'\\n{nome} possui os seguintes telefones: {agenda[nome]}')\n",
    "  telefone = input('Qual telefone deseja deletar? ')\n",
    "  telefones.remove(telefone)\n",
    "  agenda[nome] = telefones\n",
    "  print(f'\\nTelefone deletado com sucesso! A lista atualizada de telefones de {nome} é: \\n{agenda[nome]}')\n",
    "\n",
    "# função da opção 4\n",
    "def deletar_contato():\n",
    "  print('\\n> Deletando contato: ')\n",
    "  nome = input('Informe o nome: ')\n",
    "  agenda.pop(nome)\n",
    "  print(f'\\nContato deletado com sucesso! A agenda atualuzada é: \\n{agenda.keys()}')\n",
    "\n",
    "# função da opção 5\n",
    "def consultar_telefone():\n",
    "  print('\\n> Exibindo informações do contato: ')\n",
    "  nome = input('Informe o nome: ')\n",
    "  print(f'\\n{nome} possui os seguintes telefones: {agenda[nome]}')"
   ]
  },
  {
   "cell_type": "code",
   "execution_count": 4,
   "metadata": {},
   "outputs": [
    {
     "name": "stdout",
     "output_type": "stream",
     "text": [
      "\n",
      "******************* Minha Agenda ******************\n",
      "Opções disponíveis:\n",
      "\t1) Adicionar novo contato\n",
      "\t2) Adicionar telefone a um contato existente\n",
      "\t3) Excluir telefone de um contato\n",
      "\t4) Excluir o contato\n",
      "\t5) Consultar telefones de um contato\n",
      "\tInforme 0 para sair!\n",
      "\n",
      "Qual é a opção desejada? 1\n",
      "\n",
      "> Cadastrando novo contato:\n",
      "Nome: Aya\n",
      "\n",
      "Informe um telefone por vez. Para sair da adição de telefone digite 0:\n",
      "Telefone: (71) 2222-2222\n",
      "Telefone: (71) 3333-3333\n",
      "Telefone: 0\n",
      "Contato cadastrado com sucesso!\n",
      "\n",
      "******************* Minha Agenda ******************\n",
      "Opções disponíveis:\n",
      "\t1) Adicionar novo contato\n",
      "\t2) Adicionar telefone a um contato existente\n",
      "\t3) Excluir telefone de um contato\n",
      "\t4) Excluir o contato\n",
      "\t5) Consultar telefones de um contato\n",
      "\tInforme 0 para sair!\n",
      "\n",
      "Qual é a opção desejada? 5\n",
      "\n",
      "> Exibindo informações do contato: \n",
      "Informe o nome: Aya\n",
      "\n",
      "Aya possui os seguintes telefones: ['(71) 2222-2222', '(71) 3333-3333']\n",
      "\n",
      "******************* Minha Agenda ******************\n",
      "Opções disponíveis:\n",
      "\t1) Adicionar novo contato\n",
      "\t2) Adicionar telefone a um contato existente\n",
      "\t3) Excluir telefone de um contato\n",
      "\t4) Excluir o contato\n",
      "\t5) Consultar telefones de um contato\n",
      "\tInforme 0 para sair!\n",
      "\n",
      "Qual é a opção desejada? 0\n"
     ]
    }
   ],
   "source": [
    "while(True):\n",
    "  print('\\n******************* Minha Agenda ******************')\n",
    "  print('Opções disponíveis:')\n",
    "  print('\\t1) Adicionar novo contato')\n",
    "  print('\\t2) Adicionar telefone a um contato existente')\n",
    "  print('\\t3) Excluir telefone de um contato')\n",
    "  print('\\t4) Excluir o contato')\n",
    "  print('\\t5) Consultar telefones de um contato')\n",
    "  print('\\tInforme 0 para sair!')\n",
    "\n",
    "  opcao = int(input('\\nQual é a opção desejada? '))\n",
    "\n",
    "  if opcao == 0:\n",
    "    break\n",
    "  elif opcao == 1:\n",
    "    adicionar_contato()\n",
    "  elif opcao == 2:\n",
    "    adicionar_telefone()\n",
    "  elif opcao == 3:\n",
    "    deletar_telefone()\n",
    "  elif opcao == 4:\n",
    "    deletar_contato()\n",
    "  elif opcao == 5:\n",
    "    consultar_telefone()\n",
    "  else:\n",
    "    print('opção inválida!')"
   ]
  },
  {
   "cell_type": "markdown",
   "metadata": {},
   "source": [
    "---\n",
    "\n",
    "## Quais são as outras formas de praticar esses conceitos?\n",
    "\n",
    "<img src=\"https://media1.tenor.com/images/325243df1673b884f9a044797c1cfd00/tenor.gif\" align=\"left\">"
   ]
  },
  {
   "cell_type": "markdown",
   "metadata": {},
   "source": [
    "<Adicionar atividade de sua preferência para aplicação dos conceitos>"
   ]
  }
 ],
 "metadata": {
  "kernelspec": {
   "display_name": "Python 3 (ipykernel)",
   "language": "python",
   "name": "python3"
  },
  "language_info": {
   "codemirror_mode": {
    "name": "ipython",
    "version": 3
   },
   "file_extension": ".py",
   "mimetype": "text/x-python",
   "name": "python",
   "nbconvert_exporter": "python",
   "pygments_lexer": "ipython3",
   "version": "3.10.9"
  }
 },
 "nbformat": 4,
 "nbformat_minor": 4
}
