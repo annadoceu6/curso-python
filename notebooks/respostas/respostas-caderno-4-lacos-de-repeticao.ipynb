{
 "cells": [
  {
   "cell_type": "markdown",
   "metadata": {},
   "source": [
    "<img src=\"../../images/repeticao.png\">\n",
    "\n",
    "## Laços de repetição com For\n",
    "\n",
    "> O `for`trabalha com objetos **iteráveis**, ou seja, com tudo aquilo que ele pode percorrer, que no caso são listas e strings.\n",
    "\n",
    "> Saiba mais em: [Iteradores e iteráveis em Python | Ciência Programada](https://cienciaprogramada.com.br/2021/08/iteradores-e-iteraveis-em-python/)"
   ]
  },
  {
   "cell_type": "code",
   "execution_count": 11,
   "metadata": {},
   "outputs": [
    {
     "name": "stdout",
     "output_type": "stream",
     "text": [
      "M\n",
      "e\n",
      "u\n",
      " \n",
      "t\n",
      "e\n",
      "x\n",
      "t\n",
      "o\n"
     ]
    }
   ],
   "source": [
    "for item in 'Meu texto':\n",
    "    print(item)"
   ]
  },
  {
   "cell_type": "code",
   "execution_count": 12,
   "metadata": {},
   "outputs": [
    {
     "name": "stdout",
     "output_type": "stream",
     "text": [
      "1\n",
      "2\n",
      "3\n",
      "4\n",
      "5\n"
     ]
    }
   ],
   "source": [
    "lista = [1, 2, 3, 4, 5]\n",
    "\n",
    "for item in lista:\n",
    "    print(item)"
   ]
  },
  {
   "cell_type": "code",
   "execution_count": 20,
   "metadata": {},
   "outputs": [
    {
     "name": "stdout",
     "output_type": "stream",
     "text": [
      "0\n",
      "1\n",
      "2\n",
      "3\n",
      "4\n",
      "5\n",
      "6\n",
      "7\n",
      "8\n",
      "9\n"
     ]
    }
   ],
   "source": [
    "lista = range(0, 10)\n",
    "\n",
    "for item in lista:\n",
    "    print(item)"
   ]
  },
  {
   "cell_type": "code",
   "execution_count": 21,
   "metadata": {},
   "outputs": [
    {
     "name": "stdout",
     "output_type": "stream",
     "text": [
      "0\n",
      "2\n",
      "4\n",
      "6\n",
      "8\n"
     ]
    }
   ],
   "source": [
    "lista = range(0, 10, 2)\n",
    "\n",
    "for item in lista:\n",
    "    print(item)"
   ]
  },
  {
   "cell_type": "markdown",
   "metadata": {},
   "source": [
    "### Auxiliar `continue`"
   ]
  },
  {
   "cell_type": "code",
   "execution_count": 15,
   "metadata": {},
   "outputs": [
    {
     "name": "stdout",
     "output_type": "stream",
     "text": [
      "1\n",
      "2\n",
      "4\n",
      "5\n"
     ]
    }
   ],
   "source": [
    "lista = [1, 2, 3, 4, 5]\n",
    "\n",
    "for item in lista:\n",
    "    if item == 3:\n",
    "        continue\n",
    "    print(item)"
   ]
  },
  {
   "cell_type": "markdown",
   "metadata": {},
   "source": [
    "## Laços de repetição com While e o auxiliar `break`\n",
    "  \n",
    "\n",
    "```\n",
    "while(condição de entrada no loop):\n",
    "    \n",
    "    tarefa a ser executada do loop\n",
    "    \n",
    "    condição de parada do loop\n",
    "    (mecanismo que altera a condição de entrada ou macanismo que chama a função break)\n",
    "```"
   ]
  },
  {
   "cell_type": "code",
   "execution_count": 8,
   "metadata": {},
   "outputs": [
    {
     "name": "stdout",
     "output_type": "stream",
     "text": [
      "\n",
      " *** Status: formulário disponível! ***\n",
      "\n",
      " *** Status: formulário disponível! ***\n",
      "\n",
      " *** Status: formulário disponível! ***\n",
      "\n",
      " *** Status: formulário disponível! ***\n",
      "\n",
      " *** Status: formulário disponível! ***\n",
      "\n",
      " *** Status: formulário disponível! ***\n",
      "\n",
      " *** Status: formulário disponível! ***\n",
      "\n",
      " *** Status: formulário disponível! ***\n",
      "\n",
      " *** Status: formulário disponível! ***\n",
      "\n",
      " *** Status: formulário disponível! ***\n",
      "\n",
      "Status: formulário encerrado!\n"
     ]
    }
   ],
   "source": [
    "import time\n",
    "\n",
    "tempo = 10\n",
    "\n",
    "while(tempo > 0):\n",
    "    print('\\n *** Status: formulário disponível! ***')\n",
    "    time.sleep(1) \n",
    "    \n",
    "    tempo = tempo - 1\n",
    "          \n",
    "print('\\nStatus: formulário encerrado!')"
   ]
  },
  {
   "cell_type": "code",
   "execution_count": 9,
   "metadata": {},
   "outputs": [
    {
     "name": "stdout",
     "output_type": "stream",
     "text": [
      "\n",
      " *** Status: formulário disponível! ***\n",
      "\n",
      " *** Status: formulário disponível! ***\n",
      "\n",
      " *** Status: formulário disponível! ***\n",
      "\n",
      " *** Status: formulário disponível! ***\n",
      "\n",
      " *** Status: formulário disponível! ***\n",
      "\n",
      " *** Status: formulário disponível! ***\n",
      "\n",
      " *** Status: formulário disponível! ***\n",
      "\n",
      " *** Status: formulário disponível! ***\n",
      "\n",
      " *** Status: formulário disponível! ***\n",
      "\n",
      " *** Status: formulário disponível! ***\n",
      "\n",
      "Status: formulário encerrado!\n"
     ]
    }
   ],
   "source": [
    "status = True\n",
    "\n",
    "while(status):\n",
    "    print('\\n *** Status: formulário disponível! ***')\n",
    "    time.sleep(1) \n",
    "    \n",
    "    tempo = tempo + 1\n",
    "    \n",
    "    if tempo == 10:\n",
    "        break\n",
    "          \n",
    "print('\\nStatus: formulário encerrado!')"
   ]
  },
  {
   "cell_type": "markdown",
   "metadata": {},
   "source": [
    "> Saiba mais em [Loops e Estruturas de Repetição no Python no Python Academy por Erickson Lopes](https://pythonacademy.com.br/blog/estruturas-de-repeticao)"
   ]
  },
  {
   "cell_type": "markdown",
   "metadata": {},
   "source": [
    "## Exercícios"
   ]
  },
  {
   "cell_type": "markdown",
   "metadata": {},
   "source": [
    "1) Faça um programa que leia um nome de usuário e a sua senha e não aceite a senha igual ao nome do usuário, mostrando uma mensagem de erro e voltando a pedir as informações."
   ]
  },
  {
   "cell_type": "code",
   "execution_count": 17,
   "metadata": {},
   "outputs": [
    {
     "name": "stdout",
     "output_type": "stream",
     "text": [
      "\n",
      "*** Formulário de cadastro ***\n",
      "Informe um nome de pessoa usuária: Aya\n",
      "Informe sua senha: Aya\n",
      "\n",
      "Atenção! A senha não pode ser igual ao nome de pessoa usuária.\n",
      "Por favor, tente novamente.\n",
      "\n",
      "*** Formulário de cadastro ***\n",
      "Informe um nome de pessoa usuária: Aya\n",
      "Informe sua senha: 123456\n",
      "\n",
      "Cadastro realizado com sucesso!\n"
     ]
    }
   ],
   "source": [
    "nome = senha = None\n",
    "\n",
    "while(nome == senha):\n",
    "    nome = input(\"\\n*** Formulário de cadastro ***\\nInforme um nome de pessoa usuária: \")\n",
    "    senha = input(\"Informe sua senha: \")\n",
    "    \n",
    "    if nome != senha:\n",
    "        print('\\nCadastro realizado com sucesso!')\n",
    "        break\n",
    "    \n",
    "    print(\"\\nAtenção! A senha não pode ser igual ao nome de pessoa usuária.\\nPor favor, tente novamente.\")"
   ]
  },
  {
   "cell_type": "markdown",
   "metadata": {},
   "source": [
    "2) Há um método disponível nas variáveis do tipo **string** chamado `count`. Ele recebe uma string como parâmetro e tem como objetivo contar quantas vezes esse parâmetro aparece na string original onde ele está sendo chamado. Ou seja, se eu quiser contar quantas vezes a letra **\"a\"** aparece em **\"banana\"** eu posso fazer algo como:\n",
    "```python\n",
    "fruta = 'banana'\n",
    "fruta.count('a')\n",
    "```\n",
    "\n",
    "E isso vai me dar o resultado 3. Não acredita? Testa ai! "
   ]
  },
  {
   "cell_type": "code",
   "execution_count": 20,
   "metadata": {},
   "outputs": [
    {
     "data": {
      "text/plain": [
       "3"
      ]
     },
     "execution_count": 20,
     "metadata": {},
     "output_type": "execute_result"
    }
   ],
   "source": [
    "fruta = 'banana'\n",
    "fruta.count('a')"
   ]
  },
  {
   "cell_type": "markdown",
   "metadata": {},
   "source": [
    "Pois agora que sabemos disso, é chegado o momento de descobrimos quantos **\"e\"** existem em [Prefixo de Verão, ](https://www.youtube.com/watch?v=CObCy8qduuo&ab_channel=FunkeirodaZonaSul) música da maravilhosa Banda Mel. \n",
    "\n",
    "Eu vou deixar a string já montada aqui e você faz o resto beleza?!"
   ]
  },
  {
   "cell_type": "code",
   "execution_count": 3,
   "metadata": {},
   "outputs": [
    {
     "data": {
      "text/plain": [
       "'Ae, ae, ae, ae Ei, ei, ei, ei Oô, oô, oô, oô, oô, oô, o  Quando você chegar Quando você chegar Quando você chegar Numa nova estação Te espero no verão  Salve, salvador Me bato, me quebro tudo por amor Eu sou do pelô O negro é raça é fruto do amor Salve, salvador Me bato, me quebro tudo por amor Eu sou do pelô  Ae, ae, ae, ae Ei, ei, ei, ei Oô, oô, oô, oô, oô, oô, o  Ae, ae, ae, ae Ei, ei, ei, ei Oô, oô, o'"
      ]
     },
     "execution_count": 3,
     "metadata": {},
     "output_type": "execute_result"
    }
   ],
   "source": [
    "'Ae, ae, ae, ae \\\n",
    "Ei, ei, ei, ei \\\n",
    "Oô, oô, oô, oô, oô, oô, o \\\n",
    " \\\n",
    "Quando você chegar \\\n",
    "Quando você chegar \\\n",
    "Quando você chegar \\\n",
    "Numa nova estação \\\n",
    "Te espero no verão \\\n",
    " \\\n",
    "Salve, salvador \\\n",
    "Me bato, me quebro tudo por amor \\\n",
    "Eu sou do pelô \\\n",
    "O negro é raça é fruto do amor \\\n",
    "Salve, salvador \\\n",
    "Me bato, me quebro tudo por amor \\\n",
    "Eu sou do pelô \\\n",
    " \\\n",
    "Ae, ae, ae, ae \\\n",
    "Ei, ei, ei, ei \\\n",
    "Oô, oô, oô, oô, oô, oô, o \\\n",
    " \\\n",
    "Ae, ae, ae, ae \\\n",
    "Ei, ei, ei, ei \\\n",
    "Oô, oô, o' "
   ]
  },
  {
   "cell_type": "code",
   "execution_count": 25,
   "metadata": {},
   "outputs": [
    {
     "data": {
      "text/plain": [
       "40"
      ]
     },
     "execution_count": 25,
     "metadata": {},
     "output_type": "execute_result"
    }
   ],
   "source": [
    "musica = 'Ae, ae, ae, ae \\\n",
    "Ei, ei, ei, ei \\\n",
    "Oô, oô, oô, oô, oô, oô, o \\\n",
    " \\\n",
    "Quando você chegar \\\n",
    "Quando você chegar \\\n",
    "Quando você chegar \\\n",
    "Numa nova estação \\\n",
    "Te espero no verão \\\n",
    " \\\n",
    "Salve, salvador \\\n",
    "Me bato, me quebro tudo por amor \\\n",
    "Eu sou do pelô \\\n",
    "O negro é raça é fruto do amor \\\n",
    "Salve, salvador \\\n",
    "Me bato, me quebro tudo por amor \\\n",
    "Eu sou do pelô \\\n",
    " \\\n",
    "Ae, ae, ae, ae \\\n",
    "Ei, ei, ei, ei \\\n",
    "Oô, oô, oô, oô, oô, oô, o \\\n",
    " \\\n",
    "Ae, ae, ae, ae \\\n",
    "Ei, ei, ei, ei \\\n",
    "Oô, oô, o' \n",
    "\n",
    "musica.count('e')"
   ]
  },
  {
   "cell_type": "markdown",
   "metadata": {},
   "source": [
    "> ##### Você tem alguma ideia de como fazer essa contagem sem usar o count()?"
   ]
  },
  {
   "cell_type": "code",
   "execution_count": 29,
   "metadata": {},
   "outputs": [
    {
     "name": "stdout",
     "output_type": "stream",
     "text": [
      "\n",
      "A letra *e* aparece 40 vezes na música Prefixo de verão\n"
     ]
    }
   ],
   "source": [
    "contador = 0\n",
    "\n",
    "for letra in musica:\n",
    "    if letra == 'e':\n",
    "        contador = contador + 1\n",
    "    \n",
    "print('\\nA letra *e* aparece {} vezes na música Prefixo de verão'.format(contador))"
   ]
  },
  {
   "cell_type": "markdown",
   "metadata": {},
   "source": [
    "3) Faça um programa que leia 3 números e informe o maior número."
   ]
  },
  {
   "cell_type": "code",
   "execution_count": 40,
   "metadata": {},
   "outputs": [
    {
     "name": "stdout",
     "output_type": "stream",
     "text": [
      "Entre com o 1ª número: 25\n",
      "Entre com o 2ª número: 30\n",
      "Entre com o 3ª número: 21\n",
      "\n",
      "30 é o maior número\n"
     ]
    }
   ],
   "source": [
    "primeiroNum = int(input('Entre com o 1ª número: '))\n",
    "segundoNum = int(input('Entre com o 2ª número: '))\n",
    "terceiroNum = int(input('Entre com o 3ª número: '))\n",
    "\n",
    "if primeiroNum > segundoNum and primeiroNum > terceiroNum:\n",
    "    print('\\n{} é o maior número'.format(primeiroNum))\n",
    "elif segundoNum > primeiroNum and segundoNum > terceiroNum:\n",
    "    print('\\n{} é o maior número'.format(segundoNum))\n",
    "else:\n",
    "    print('\\n{} é o maior número'.format(terceiroNum))"
   ]
  },
  {
   "cell_type": "markdown",
   "metadata": {},
   "source": [
    "4) Faça um programa que receba dois números inteiros e gere os números inteiros que estão no intervalo compreendido por eles."
   ]
  },
  {
   "cell_type": "code",
   "execution_count": 35,
   "metadata": {},
   "outputs": [
    {
     "name": "stdout",
     "output_type": "stream",
     "text": [
      "Entre com o 1ª número: 2\n",
      "Entre com o 2ª número: 12\n",
      "\n",
      "Intervalo entre os números informados:\n",
      "\n",
      "2\n",
      "3\n",
      "4\n",
      "5\n",
      "6\n",
      "7\n",
      "8\n",
      "9\n",
      "10\n",
      "11\n",
      "12\n"
     ]
    }
   ],
   "source": [
    "primeiroNum = int(input('Entre com o 1ª número: '))\n",
    "segundoNum = int(input('Entre com o 2ª número: '))\n",
    "\n",
    "numeroAtual = primeiroNum\n",
    "\n",
    "print('\\nIntervalo entre os números informados:\\n')\n",
    "\n",
    "while(numeroAtual <= segundoNum):\n",
    "    print(numeroAtual)\n",
    "    numeroAtual = numeroAtual + 1"
   ]
  },
  {
   "cell_type": "markdown",
   "metadata": {},
   "source": [
    "5) Altere o programa anterior para mostrar no final a soma dos números."
   ]
  },
  {
   "cell_type": "code",
   "execution_count": 44,
   "metadata": {},
   "outputs": [
    {
     "name": "stdout",
     "output_type": "stream",
     "text": [
      "Entre com o 1ª número: 1\n",
      "Entre com o 2ª número: 5\n",
      "\n",
      "A soma do intervalo entre os números informados é igual a 15\n"
     ]
    }
   ],
   "source": [
    "primeiroNum = int(input('Entre com o 1ª número: '))\n",
    "segundoNum = int(input('Entre com o 2ª número: '))\n",
    "\n",
    "numeroAtual = primeiroNum\n",
    "soma = 0\n",
    "\n",
    "while(numeroAtual <= segundoNum):\n",
    "    soma = soma +  numeroAtual\n",
    "    numeroAtual = numeroAtual + 1\n",
    "    \n",
    "print('\\nA soma do intervalo entre os números informados é igual a', soma)"
   ]
  },
  {
   "cell_type": "markdown",
   "metadata": {},
   "source": [
    "6) Faça um programa que exiba as tabuadas de multiplicação 1 até 10 no formato: \"2 x 3 = 6\", (dica: utilize dois comandos for)"
   ]
  },
  {
   "cell_type": "code",
   "execution_count": 51,
   "metadata": {},
   "outputs": [
    {
     "name": "stdout",
     "output_type": "stream",
     "text": [
      "\n",
      "\n",
      "1 x 1 = 1\n",
      "1 x 2 = 2\n",
      "1 x 3 = 3\n",
      "1 x 4 = 4\n",
      "1 x 5 = 5\n",
      "1 x 6 = 6\n",
      "1 x 7 = 7\n",
      "1 x 8 = 8\n",
      "1 x 9 = 9\n",
      "1 x 10 = 10\n",
      "\n",
      "\n",
      "2 x 1 = 2\n",
      "2 x 2 = 4\n",
      "2 x 3 = 6\n",
      "2 x 4 = 8\n",
      "2 x 5 = 10\n",
      "2 x 6 = 12\n",
      "2 x 7 = 14\n",
      "2 x 8 = 16\n",
      "2 x 9 = 18\n",
      "2 x 10 = 20\n",
      "\n",
      "\n",
      "3 x 1 = 3\n",
      "3 x 2 = 6\n",
      "3 x 3 = 9\n",
      "3 x 4 = 12\n",
      "3 x 5 = 15\n",
      "3 x 6 = 18\n",
      "3 x 7 = 21\n",
      "3 x 8 = 24\n",
      "3 x 9 = 27\n",
      "3 x 10 = 30\n",
      "\n",
      "\n",
      "4 x 1 = 4\n",
      "4 x 2 = 8\n",
      "4 x 3 = 12\n",
      "4 x 4 = 16\n",
      "4 x 5 = 20\n",
      "4 x 6 = 24\n",
      "4 x 7 = 28\n",
      "4 x 8 = 32\n",
      "4 x 9 = 36\n",
      "4 x 10 = 40\n",
      "\n",
      "\n",
      "5 x 1 = 5\n",
      "5 x 2 = 10\n",
      "5 x 3 = 15\n",
      "5 x 4 = 20\n",
      "5 x 5 = 25\n",
      "5 x 6 = 30\n",
      "5 x 7 = 35\n",
      "5 x 8 = 40\n",
      "5 x 9 = 45\n",
      "5 x 10 = 50\n",
      "\n",
      "\n",
      "6 x 1 = 6\n",
      "6 x 2 = 12\n",
      "6 x 3 = 18\n",
      "6 x 4 = 24\n",
      "6 x 5 = 30\n",
      "6 x 6 = 36\n",
      "6 x 7 = 42\n",
      "6 x 8 = 48\n",
      "6 x 9 = 54\n",
      "6 x 10 = 60\n",
      "\n",
      "\n",
      "7 x 1 = 7\n",
      "7 x 2 = 14\n",
      "7 x 3 = 21\n",
      "7 x 4 = 28\n",
      "7 x 5 = 35\n",
      "7 x 6 = 42\n",
      "7 x 7 = 49\n",
      "7 x 8 = 56\n",
      "7 x 9 = 63\n",
      "7 x 10 = 70\n",
      "\n",
      "\n",
      "8 x 1 = 8\n",
      "8 x 2 = 16\n",
      "8 x 3 = 24\n",
      "8 x 4 = 32\n",
      "8 x 5 = 40\n",
      "8 x 6 = 48\n",
      "8 x 7 = 56\n",
      "8 x 8 = 64\n",
      "8 x 9 = 72\n",
      "8 x 10 = 80\n",
      "\n",
      "\n",
      "9 x 1 = 9\n",
      "9 x 2 = 18\n",
      "9 x 3 = 27\n",
      "9 x 4 = 36\n",
      "9 x 5 = 45\n",
      "9 x 6 = 54\n",
      "9 x 7 = 63\n",
      "9 x 8 = 72\n",
      "9 x 9 = 81\n",
      "9 x 10 = 90\n",
      "\n",
      "\n",
      "10 x 1 = 10\n",
      "10 x 2 = 20\n",
      "10 x 3 = 30\n",
      "10 x 4 = 40\n",
      "10 x 5 = 50\n",
      "10 x 6 = 60\n",
      "10 x 7 = 70\n",
      "10 x 8 = 80\n",
      "10 x 9 = 90\n",
      "10 x 10 = 100\n"
     ]
    }
   ],
   "source": [
    "for item1 in [1, 2, 3, 4, 5, 6, 7, 8, 9, 10]:\n",
    "    print('\\n')\n",
    "    \n",
    "    for item2 in [1, 2, 3, 4, 5, 6, 7, 8, 9, 10]:\n",
    "        multiplicacao = item1 * item2\n",
    "        print('{} x {} = {}'.format(item1, item2, multiplicacao))"
   ]
  },
  {
   "cell_type": "markdown",
   "metadata": {},
   "source": [
    "---\n",
    "\n",
    "## Quais são as outras formas de praticar esses conceitos?\n",
    "\n",
    "<img src=\"https://media.giphy.com/media/jeypEnZltv7HnASSg2/giphy.gif\" align=\"left\">"
   ]
  },
  {
   "cell_type": "markdown",
   "metadata": {},
   "source": [
    "<Adicionar atividade de sua preferência para aplicação dos conceitos>"
   ]
  }
 ],
 "metadata": {
  "kernelspec": {
   "display_name": "Python 3 (ipykernel)",
   "language": "python",
   "name": "python3"
  },
  "language_info": {
   "codemirror_mode": {
    "name": "ipython",
    "version": 3
   },
   "file_extension": ".py",
   "mimetype": "text/x-python",
   "name": "python",
   "nbconvert_exporter": "python",
   "pygments_lexer": "ipython3",
   "version": "3.10.9"
  }
 },
 "nbformat": 4,
 "nbformat_minor": 4
}
