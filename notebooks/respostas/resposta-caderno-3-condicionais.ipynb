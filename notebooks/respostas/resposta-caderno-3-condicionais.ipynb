{
 "cells": [
  {
   "cell_type": "markdown",
   "metadata": {},
   "source": [
    "<img src=\"../../images/condicionais.png\">\n",
    "\n",
    "## Condicionais"
   ]
  },
  {
   "cell_type": "code",
   "execution_count": 5,
   "metadata": {},
   "outputs": [
    {
     "data": {
      "text/plain": [
       "True"
      ]
     },
     "execution_count": 5,
     "metadata": {},
     "output_type": "execute_result"
    }
   ],
   "source": [
    "10 > 0"
   ]
  },
  {
   "cell_type": "code",
   "execution_count": 6,
   "metadata": {},
   "outputs": [
    {
     "data": {
      "text/plain": [
       "False"
      ]
     },
     "execution_count": 6,
     "metadata": {},
     "output_type": "execute_result"
    }
   ],
   "source": [
    "10 == 100"
   ]
  },
  {
   "cell_type": "code",
   "execution_count": 7,
   "metadata": {},
   "outputs": [
    {
     "data": {
      "text/plain": [
       "False"
      ]
     },
     "execution_count": 7,
     "metadata": {},
     "output_type": "execute_result"
    }
   ],
   "source": [
    "-85 > 0"
   ]
  },
  {
   "cell_type": "code",
   "execution_count": 4,
   "metadata": {},
   "outputs": [
    {
     "name": "stdout",
     "output_type": "stream",
     "text": [
      "Entre com o número: -88\n"
     ]
    }
   ],
   "source": [
    "num = int(input('Entre com o número: '))\n",
    "\n",
    "if num > 0:\n",
    "    print('\\nO número indicado é positivo')"
   ]
  },
  {
   "cell_type": "code",
   "execution_count": 9,
   "metadata": {},
   "outputs": [
    {
     "name": "stdout",
     "output_type": "stream",
     "text": [
      "Entre com o número: -8\n",
      "\n",
      "O número indicado é negativo\n"
     ]
    }
   ],
   "source": [
    "num = int(input('Entre com o número: '))\n",
    "\n",
    "if num > 0:\n",
    "    print('\\nO número indicado é positivo')\n",
    "else:\n",
    "    print('\\nO número indicado é negativo')"
   ]
  },
  {
   "cell_type": "code",
   "execution_count": 11,
   "metadata": {},
   "outputs": [
    {
     "name": "stdout",
     "output_type": "stream",
     "text": [
      "Entre com o número: 0\n",
      "\n",
      "O número indicado é igual a 0\n"
     ]
    }
   ],
   "source": [
    "num = int(input('Entre com o número: '))\n",
    "\n",
    "if num > 0:\n",
    "    print('\\nO número indicado é positivo')\n",
    "elif num == 0:\n",
    "    print('\\nO número indicado é igual a 0')\n",
    "else:\n",
    "    print('\\nO número indicado é negativo')"
   ]
  },
  {
   "cell_type": "markdown",
   "metadata": {},
   "source": [
    "## Diferença de If x Elif"
   ]
  },
  {
   "cell_type": "code",
   "execution_count": 16,
   "metadata": {},
   "outputs": [
    {
     "name": "stdout",
     "output_type": "stream",
     "text": [
      "Mensagem da primeira checagem\n"
     ]
    }
   ],
   "source": [
    "num = 1\n",
    "\n",
    "if num == 1:\n",
    "    print('Mensagem da primeira checagem')\n",
    "\n",
    "elif num == 1:\n",
    "    print('Mensagem da segunda checagem')\n",
    "\n",
    "elif num == 1:\n",
    "    print('Mensagem da terceira checagem')\n",
    "\n",
    "elif num == 1:\n",
    "    print('Mensagem da quarta checagem')"
   ]
  },
  {
   "cell_type": "code",
   "execution_count": 17,
   "metadata": {},
   "outputs": [
    {
     "name": "stdout",
     "output_type": "stream",
     "text": [
      "Mensagem da primeira checagem\n",
      "Mensagem da segunda checagem\n",
      "Mensagem da terceira checagem\n",
      "Mensagem da quarta checagem\n"
     ]
    }
   ],
   "source": [
    "num = 1\n",
    "\n",
    "if num == 1:\n",
    "    print('Mensagem da primeira checagem')\n",
    "\n",
    "if num == 1:\n",
    "    print('Mensagem da segunda checagem')\n",
    "\n",
    "if num == 1:\n",
    "    print('Mensagem da terceira checagem')\n",
    "\n",
    "if num == 1:\n",
    "    print('Mensagem da quarta checagem')"
   ]
  },
  {
   "cell_type": "markdown",
   "metadata": {},
   "source": [
    "## Múltipas condições"
   ]
  },
  {
   "cell_type": "markdown",
   "metadata": {},
   "source": [
    "> [Escreva um programa que leia três números e que imprima o maior e o menor](https://python.nilo.pro.br/exercicios3/capitulo%2004/exercicio-04-03.html)"
   ]
  },
  {
   "cell_type": "code",
   "execution_count": 14,
   "metadata": {},
   "outputs": [
    {
     "name": "stdout",
     "output_type": "stream",
     "text": [
      "Digite o primeiro valor:8\n",
      "Digite o segundo valor:5\n",
      "Digite o terceiro valor:10\n",
      "\n",
      "O menor número digitado foi 5\n",
      "\n",
      "O maior número digitado foi 10\n"
     ]
    }
   ],
   "source": [
    "a = int(input(\"Digite o primeiro valor:\"))\n",
    "b = int(input(\"Digite o segundo valor:\"))\n",
    "c = int(input(\"Digite o terceiro valor:\"))\n",
    "\n",
    "maior = a\n",
    "if b > a and b > c:\n",
    "    maior = b\n",
    "if c > a and c > b:\n",
    "    maior = c\n",
    "    \n",
    "menor = a\n",
    "if b < c and b < a:\n",
    "    menor = b\n",
    "if c < b and c < a:\n",
    "    menor = c\n",
    "    \n",
    "print(f\"\\nO menor número digitado foi {menor}\")\n",
    "print(f\"\\nO maior número digitado foi {maior}\")"
   ]
  },
  {
   "cell_type": "markdown",
   "metadata": {},
   "source": [
    "## Exercícios"
   ]
  },
  {
   "cell_type": "markdown",
   "metadata": {},
   "source": [
    "1) Faça um algoritmo que solicite a entrada de um número e exiba o dia da semana correspondente (1-Domingo, 2- Segunda,...,7-Sábado), se receber um outro valor a mensagem \"Valor inválido\" deverá ser exibida."
   ]
  },
  {
   "cell_type": "code",
   "execution_count": 5,
   "metadata": {},
   "outputs": [
    {
     "name": "stdout",
     "output_type": "stream",
     "text": [
      "Informe um número que represente um dia da semana (1-Domingo, 2- Segunda,...,7-Sábado): 25\n",
      "\n",
      "Valor inválido!\n"
     ]
    }
   ],
   "source": [
    "diaSemana = int(input(\"Informe um número que represente um dia da semana (1-Domingo, 2- Segunda,...,7-Sábado): \"))\n",
    "\n",
    "if diaSemana == 1:\n",
    "  print('\\nO dia da semana é Domingo')\n",
    "elif diaSemana == 2:\n",
    "  print('\\nO dia da semana é Segunda')\n",
    "elif diaSemana == 3:\n",
    "  print('\\nO dia da semana é Terça')\n",
    "elif diaSemana == 4:\n",
    "  print('\\nO dia da semana é Quarta')\n",
    "elif diaSemana == 5:\n",
    "  print('\\nO dia da semana é Quinta')\n",
    "elif diaSemana == 6:\n",
    "  print('\\nO dia da semana é Sexta')\n",
    "elif diaSemana == 7:\n",
    "  print('\\nO dia da semana é Sábado')\n",
    "else:\n",
    "  print(\"\\nValor inválido!\")"
   ]
  },
  {
   "cell_type": "markdown",
   "metadata": {},
   "source": [
    "**Resposta da questão 1 com checagem para erro caso a pessoa usuária informe um texto ao invés de um número**"
   ]
  },
  {
   "cell_type": "code",
   "execution_count": 11,
   "metadata": {},
   "outputs": [
    {
     "name": "stdout",
     "output_type": "stream",
     "text": [
      "Informe um número que represente um dia da semana (1-Domingo, 2- Segunda,...,7-Sábado): segunda\n",
      "\n",
      "Não é possível converter a string \"segunda\" para um número inteiro.   \n",
      "Informe um valor válido (entre 1 e 7)\n"
     ]
    }
   ],
   "source": [
    "diaSemana = input(\"Informe um número que represente um dia da semana (1-Domingo, \\\n",
    "2- Segunda,...,7-Sábado): \")\n",
    "\n",
    "try:\n",
    "    if int(diaSemana) == 1:\n",
    "        print('\\nO dia da semana é Domingo')\n",
    "    elif int(diaSemana) == 2:\n",
    "        print('\\nO dia da semana é Segunda')\n",
    "    elif int(diaSemana) == 3:\n",
    "        print('\\nO dia da semana é Terça')\n",
    "    elif int(diaSemana) == 4:\n",
    "        print('\\nO dia da semana é Quarta')\n",
    "    elif int(diaSemana) == 5:\n",
    "        print('\\nO dia da semana é Quinta')\n",
    "    elif int(diaSemana) == 6:\n",
    "        print('\\nO dia da semana é Sexta')\n",
    "    elif int(diaSemana) == 7:\n",
    "        print('\\nO dia da semana é Sábado')\n",
    "    else:\n",
    "        print(\"\\nValor inválido!\")\n",
    "except ValueError:\n",
    "  print('\\nNão é possível converter a string \"{0}\" para um número inteiro. \\\n",
    "  \\nInforme um valor válido (entre 1 e 7)'.format(diaSemana))"
   ]
  },
  {
   "cell_type": "markdown",
   "metadata": {},
   "source": [
    "2) Faça um algoritmo que pergunte a usuária em que ano ela nasceu e, caso ela seja maior de idade, imprima em que ano ela fez 18 anos. Caso ela seja menor de idade, imprima em qual ano ela completará 18 anos. \n",
    "\n",
    "Pra deixar a saída mais fácil de entender utilize mensagens como: **\"Você fez 18 anos em: \"**, **\"Você completará 18 anos em: \"**."
   ]
  },
  {
   "cell_type": "code",
   "execution_count": 15,
   "metadata": {},
   "outputs": [
    {
     "name": "stdout",
     "output_type": "stream",
     "text": [
      "Em qual ano você nasceu? 2000\n",
      "\n",
      "Você fez 18 anos em 2018\n"
     ]
    }
   ],
   "source": [
    "anoNascimento = int(input('Em qual ano você nasceu? '))\n",
    "\n",
    "anoAtual = 2023\n",
    "\n",
    "idade = anoAtual - anoNascimento\n",
    "\n",
    "if idade <= 18:\n",
    "    print('\\nVocê fará 18 anos em', anoNascimento + 18)\n",
    "else:\n",
    "    print('\\nVocê fez 18 anos em', anoNascimento + 18)"
   ]
  },
  {
   "cell_type": "markdown",
   "metadata": {},
   "source": [
    "3) Faça um algoritmo que solicite as 3 notas da usuária, calcule a média e indique se a aluna foi aprovada ou reprovada (nota precisa ser **maior ou igual** à 7 para a aluna ser aprovada)."
   ]
  },
  {
   "cell_type": "code",
   "execution_count": 24,
   "metadata": {},
   "outputs": [
    {
     "name": "stdout",
     "output_type": "stream",
     "text": [
      "Entre com a 1ª nota: 9\n",
      "Entre com a 2ª nota: 8.4\n",
      "Entre com a 3ª nota: 8.7\n",
      "\n",
      "A aluna foi aprovada com média 8.7!\n"
     ]
    }
   ],
   "source": [
    "primeiraNota = float(input('Entre com a 1ª nota: '))\n",
    "segundaNota = float(input('Entre com a 2ª nota: '))\n",
    "terceitaNota = float(input('Entre com a 3ª nota: '))\n",
    "\n",
    "media = (primeiraNota + segundaNota + terceitaNota) / 3\n",
    "\n",
    "\n",
    "if media >= 7:   \n",
    "    print('\\nA aluna foi aprovada com média {0:.1f}!'.format(media))\n",
    "else:\n",
    "    print('\\nA aluna foi reprovada com média {0:.1f}!'.format(media))"
   ]
  },
  {
   "cell_type": "markdown",
   "metadata": {},
   "source": [
    "4) Faça um algoritmo que pergunte a idade da usuária e depois disso exiba a classificação etária de acordo com as faixas de valores:\n",
    "    \n",
    "- Criança para 0 até 11 anos;\n",
    "- Adolescente para 12 até 18 anos;\n",
    "- Jovem para 19 até 24 anos;\n",
    "- Adulto para 25 até 40 anos;\n",
    "- Meia Idade para 41 até 60 anos;\n",
    "- Idoso acima de 60 anos."
   ]
  },
  {
   "cell_type": "code",
   "execution_count": 34,
   "metadata": {},
   "outputs": [
    {
     "name": "stdout",
     "output_type": "stream",
     "text": [
      "Informe sua idade: 0\n",
      "\n",
      "Criança: 0 até 11 anos\n"
     ]
    }
   ],
   "source": [
    "idade = input(\"Informe sua idade: \")\n",
    "\n",
    "try:\n",
    "    idade = int(idade)\n",
    "    \n",
    "    if idade >= 0 and idade <= 11:\n",
    "        print('\\nCriança: 0 até 11 anos')\n",
    "    elif idade > 11 and idade <= 18:\n",
    "        print('\\nAdolescente: 12 até 18 anos')\n",
    "    elif idade > 18 and idade <= 24:\n",
    "        print('\\nJovem: 19 até 24 anos')\n",
    "    elif idade > 24 and idade <= 40:\n",
    "        print('\\nAdulto: 25 até 40 anos')\n",
    "    elif idade > 41 and idade <= 60:\n",
    "        print('\\nMeia Idade: 41 até 60 anos')\n",
    "    elif idade > 60:\n",
    "        print('\\nIdoso: acima de 60 anos')\n",
    "    else:\n",
    "        print(\"\\nValor {0} é inválido!\".format(idade))\n",
    "\n",
    "except ValueError:\n",
    "  print('\\nNão é possível converter a string \"{0}\" para um número inteiro. \\\n",
    "  \\nInforme um valor de idade válido (números maiores ou iguais a 0)'.format(idade))"
   ]
  },
  {
   "cell_type": "markdown",
   "metadata": {},
   "source": [
    "> ##### Você sabe como Python diferencia \"PyLadies\" de \"Pyladies\"? Dá só uma olhada nisso: [Comparação de Strings em Python - eXcript](http://excript.com/python/comparacao-de-string-python.html)"
   ]
  },
  {
   "cell_type": "markdown",
   "metadata": {},
   "source": [
    "4) Faça um programa que solicite a entrada de dois nomes e imprima uma mensagem informando se eles são iguais ou não.\n",
    "\n",
    "\n",
    "> ##### Dica: cuidado com o int no `input()`"
   ]
  },
  {
   "cell_type": "code",
   "execution_count": 35,
   "metadata": {},
   "outputs": [
    {
     "name": "stdout",
     "output_type": "stream",
     "text": [
      "Informe o primeiro nome: Laranja\n",
      "Informe o segundo nome: Banana\n",
      "\n",
      "Os nomes informados são diferentes!\n"
     ]
    }
   ],
   "source": [
    "primeiroNome = input('Informe o primeiro nome: ')\n",
    "segundoNome = input('Informe o segundo nome: ')\n",
    "\n",
    "if primeiroNome == segundoNome:\n",
    "  print('\\nOs nomes informados são iguais!')\n",
    "else: \n",
    "  print('\\nOs nomes informados são diferentes!')"
   ]
  },
  {
   "cell_type": "markdown",
   "metadata": {},
   "source": [
    "---\n",
    "\n",
    "## Quais são as outras formas de praticar esses conceitos?\n",
    "\n",
    "<img src=\"https://media.giphy.com/media/kHmVOy84g8G6my09fu/giphy.gif\" align=\"left\">"
   ]
  },
  {
   "cell_type": "markdown",
   "metadata": {},
   "source": [
    "<Adicionar atividade de sua preferência para aplicação dos conceitos>"
   ]
  }
 ],
 "metadata": {
  "kernelspec": {
   "display_name": "Python 3 (ipykernel)",
   "language": "python",
   "name": "python3"
  },
  "language_info": {
   "codemirror_mode": {
    "name": "ipython",
    "version": 3
   },
   "file_extension": ".py",
   "mimetype": "text/x-python",
   "name": "python",
   "nbconvert_exporter": "python",
   "pygments_lexer": "ipython3",
   "version": "3.10.9"
  }
 },
 "nbformat": 4,
 "nbformat_minor": 4
}
