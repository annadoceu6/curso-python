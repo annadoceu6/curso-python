{
  "cells": [
    {
      "cell_type": "markdown",
      "metadata": {
        "id": "view-in-github",
        "colab_type": "text"
      },
      "source": [
        "<a href=\"https://colab.research.google.com/github/annadoceu6/curso-python/blob/main/C%C3%B3pia_de_C%C3%B3pia_de_caderno_2_tipos_basicos_de_dados.ipynb\" target=\"_parent\"><img src=\"https://colab.research.google.com/assets/colab-badge.svg\" alt=\"Open In Colab\"/></a>"
      ]
    },
    {
      "cell_type": "markdown",
      "metadata": {
        "id": "QhUAG7G8oq8c"
      },
      "source": [
        "<img src=\"https://github.com/soterolab/curso-python/blob/main/images/variaveis.png?raw=1\">"
      ]
    },
    {
      "cell_type": "markdown",
      "metadata": {
        "id": "IX_TOqjfoq8i"
      },
      "source": [
        "## Variáveis"
      ]
    },
    {
      "cell_type": "code",
      "execution_count": null,
      "metadata": {
        "id": "069U4WaDoq8j"
      },
      "outputs": [],
      "source": [
        "nome = 'Aya'\n",
        "\n",
        "idade = '25.5'\n",
        "\n",
        "cidade = 'Salvador'"
      ]
    },
    {
      "cell_type": "code",
      "execution_count": null,
      "metadata": {
        "id": "9guXAoxvoq8m",
        "colab": {
          "base_uri": "https://localhost:8080/",
          "height": 35
        },
        "outputId": "13f559f8-c986-4753-b43b-13b56562ba43"
      },
      "outputs": [
        {
          "output_type": "execute_result",
          "data": {
            "text/plain": [
              "'Olá! meu nome é Aya, tenho idade anos e moro em Salvador'"
            ],
            "application/vnd.google.colaboratory.intrinsic+json": {
              "type": "string"
            }
          },
          "metadata": {},
          "execution_count": 6
        }
      ],
      "source": [
        "'Olá! meu nome é ' + nome + ', tenho ' + (f'idade') + ' anos e moro em ' + cidade"
      ]
    },
    {
      "cell_type": "markdown",
      "metadata": {
        "id": "fIqpGdNHoq8o"
      },
      "source": [
        "## Operações\n",
        "\n",
        "### Operações Núméricas"
      ]
    },
    {
      "cell_type": "code",
      "execution_count": null,
      "metadata": {
        "id": "0KLX3smqoq8o",
        "outputId": "43673964-0abd-4924-fdc8-4d04307395e4"
      },
      "outputs": [
        {
          "data": {
            "text/plain": [
              "4"
            ]
          },
          "execution_count": 3,
          "metadata": {},
          "output_type": "execute_result"
        }
      ],
      "source": [
        "2 + 2"
      ]
    },
    {
      "cell_type": "code",
      "execution_count": null,
      "metadata": {
        "id": "1uYo0O8loq8p",
        "outputId": "3e0f077b-c503-4b4f-a85c-4bed566695ea"
      },
      "outputs": [
        {
          "data": {
            "text/plain": [
              "6"
            ]
          },
          "execution_count": 4,
          "metadata": {},
          "output_type": "execute_result"
        }
      ],
      "source": [
        "2 * 3"
      ]
    },
    {
      "cell_type": "code",
      "execution_count": null,
      "metadata": {
        "id": "GNCp0S--oq8q",
        "outputId": "ba536bf7-7fa4-4a94-d8f2-ec191593cb30"
      },
      "outputs": [
        {
          "data": {
            "text/plain": [
              "3"
            ]
          },
          "execution_count": 5,
          "metadata": {},
          "output_type": "execute_result"
        }
      ],
      "source": [
        "5 - 2"
      ]
    },
    {
      "cell_type": "code",
      "execution_count": null,
      "metadata": {
        "id": "biHvvb0toq8r",
        "outputId": "318fd4fc-ac12-4ffb-9cff-c3c5ed9df0cd"
      },
      "outputs": [
        {
          "data": {
            "text/plain": [
              "9.0"
            ]
          },
          "execution_count": 6,
          "metadata": {},
          "output_type": "execute_result"
        }
      ],
      "source": [
        "45 / 5"
      ]
    },
    {
      "cell_type": "code",
      "execution_count": null,
      "metadata": {
        "id": "320RQeYIoq8r",
        "outputId": "2f1fc0d8-4e4e-4205-a6f7-3a6420f80c06"
      },
      "outputs": [
        {
          "data": {
            "text/plain": [
              "4"
            ]
          },
          "execution_count": 7,
          "metadata": {},
          "output_type": "execute_result"
        }
      ],
      "source": [
        "2 ** 2"
      ]
    },
    {
      "cell_type": "markdown",
      "metadata": {
        "id": "Nd-UnUlfoq8s"
      },
      "source": [
        "### Operações de comparação"
      ]
    },
    {
      "cell_type": "code",
      "execution_count": null,
      "metadata": {
        "id": "oILuXMIPoq8t",
        "outputId": "8c51f3b9-908e-4ead-c87a-574150bd3074"
      },
      "outputs": [
        {
          "data": {
            "text/plain": [
              "False"
            ]
          },
          "execution_count": 8,
          "metadata": {},
          "output_type": "execute_result"
        }
      ],
      "source": [
        "2 > 7"
      ]
    },
    {
      "cell_type": "code",
      "execution_count": null,
      "metadata": {
        "id": "CCm7PuFAoq8u",
        "outputId": "cd0341b1-d1d2-4d19-ad5e-f3b3a5b6d3cd"
      },
      "outputs": [
        {
          "data": {
            "text/plain": [
              "False"
            ]
          },
          "execution_count": 9,
          "metadata": {},
          "output_type": "execute_result"
        }
      ],
      "source": [
        "'laranja' == 'banana'"
      ]
    },
    {
      "cell_type": "code",
      "execution_count": null,
      "metadata": {
        "id": "qzbe0ZBVoq8u",
        "outputId": "c48ddfc3-42c9-49b9-bb62-0cd7a5b524ce"
      },
      "outputs": [
        {
          "data": {
            "text/plain": [
              "False"
            ]
          },
          "execution_count": 10,
          "metadata": {},
          "output_type": "execute_result"
        }
      ],
      "source": [
        "'laranja' == 'Laranja'"
      ]
    },
    {
      "cell_type": "code",
      "execution_count": null,
      "metadata": {
        "id": "ky_7_bTIoq8v",
        "outputId": "6825f8c5-47b3-4c2b-d2bd-319b9881bc2c"
      },
      "outputs": [
        {
          "data": {
            "text/plain": [
              "True"
            ]
          },
          "execution_count": 11,
          "metadata": {},
          "output_type": "execute_result"
        }
      ],
      "source": [
        "2 + 2 == 2 * 2 "
      ]
    },
    {
      "cell_type": "markdown",
      "metadata": {
        "id": "MNTDRL9yoq8v"
      },
      "source": [
        "### Operadores binários: =, ==, <, >, !=, <=, >=, in, not in, is, and, or, not\n",
        "\n",
        "> Indicação da [PEP 8](https://wiki.python.org.br/GuiaDeEstilo): Sempre circunde os operadores binários com um único espaço de cada lado"
      ]
    },
    {
      "cell_type": "code",
      "execution_count": null,
      "metadata": {
        "id": "AoSLKeUPoq8w",
        "outputId": "6e7edf29-cd91-4939-b1d0-34d3d16fb6de"
      },
      "outputs": [
        {
          "data": {
            "text/plain": [
              "False"
            ]
          },
          "execution_count": 12,
          "metadata": {},
          "output_type": "execute_result"
        }
      ],
      "source": [
        "'laranja' != 'laranja'"
      ]
    },
    {
      "cell_type": "code",
      "execution_count": null,
      "metadata": {
        "scrolled": true,
        "id": "zAgfHyQhoq8w",
        "outputId": "ff8f597d-946a-474b-a475-a1aa86161a43"
      },
      "outputs": [
        {
          "name": "stderr",
          "output_type": "stream",
          "text": [
            "<>:1: SyntaxWarning: \"is\" with a literal. Did you mean \"==\"?\n",
            "<>:1: SyntaxWarning: \"is\" with a literal. Did you mean \"==\"?\n",
            "/tmp/ipykernel_35105/4225139519.py:1: SyntaxWarning: \"is\" with a literal. Did you mean \"==\"?\n",
            "  5 is 8\n"
          ]
        },
        {
          "data": {
            "text/plain": [
              "False"
            ]
          },
          "execution_count": 13,
          "metadata": {},
          "output_type": "execute_result"
        }
      ],
      "source": [
        "5 is 8"
      ]
    },
    {
      "cell_type": "markdown",
      "metadata": {
        "id": "Z2NShus3oq8x"
      },
      "source": [
        "---"
      ]
    },
    {
      "cell_type": "markdown",
      "metadata": {
        "id": "6G3HB0VHoq8x"
      },
      "source": [
        "> Uma curiosidade: [Why does Python log a SyntaxWarning for ‘is’ with literals?](https://adamj.eu/tech/2020/01/21/why-does-python-3-8-syntaxwarning-for-is-literal/)"
      ]
    },
    {
      "cell_type": "code",
      "execution_count": null,
      "metadata": {
        "id": "guotCAxXoq8y",
        "outputId": "3f462592-c35a-43f4-bc10-7154e96dc82d"
      },
      "outputs": [
        {
          "data": {
            "text/plain": [
              "True"
            ]
          },
          "execution_count": 14,
          "metadata": {},
          "output_type": "execute_result"
        }
      ],
      "source": [
        "a = 'Aya'\n",
        "b = a\n",
        "c = 'Aya'\n",
        "\n",
        "a is b"
      ]
    },
    {
      "cell_type": "code",
      "execution_count": null,
      "metadata": {
        "id": "DTymo2b2oq8y",
        "outputId": "8a37a37a-7582-423c-f479-f3ceea06eb34"
      },
      "outputs": [
        {
          "data": {
            "text/plain": [
              "True"
            ]
          },
          "execution_count": 15,
          "metadata": {},
          "output_type": "execute_result"
        }
      ],
      "source": [
        "a is c"
      ]
    },
    {
      "cell_type": "code",
      "execution_count": null,
      "metadata": {
        "id": "2jpokZe5oq8z",
        "outputId": "9dd72c03-7277-4251-dc90-53f26e74f9b7"
      },
      "outputs": [
        {
          "data": {
            "text/plain": [
              "140460040337584"
            ]
          },
          "execution_count": 16,
          "metadata": {},
          "output_type": "execute_result"
        }
      ],
      "source": [
        "id(a)"
      ]
    },
    {
      "cell_type": "code",
      "execution_count": null,
      "metadata": {
        "id": "CeNu0VqFoq8z",
        "outputId": "05c35508-1e34-498e-ed4d-e46d3527b409"
      },
      "outputs": [
        {
          "data": {
            "text/plain": [
              "140460040337584"
            ]
          },
          "execution_count": 17,
          "metadata": {},
          "output_type": "execute_result"
        }
      ],
      "source": [
        "id(b)"
      ]
    },
    {
      "cell_type": "code",
      "execution_count": null,
      "metadata": {
        "id": "H93xvQ92oq80",
        "outputId": "9666dd9e-b822-40be-f125-757531ad605a"
      },
      "outputs": [
        {
          "data": {
            "text/plain": [
              "140460040337584"
            ]
          },
          "execution_count": 18,
          "metadata": {},
          "output_type": "execute_result"
        }
      ],
      "source": [
        "id(c)"
      ]
    },
    {
      "cell_type": "markdown",
      "metadata": {
        "id": "3fzNFD7xoq80"
      },
      "source": [
        "> O capítulo [\"9.10. Objects and values\" do livro \"How to Think Like a Computer Scientist\"](https://www.openbookproject.net/thinkcs/python/english2e/ch09.html#index-2) também  ajuda a entender o que aconteceu acima ;]\n",
        "\n",
        "---"
      ]
    },
    {
      "cell_type": "markdown",
      "metadata": {
        "id": "G_qFjIUioq80"
      },
      "source": [
        "## Tipos básicos de dados"
      ]
    },
    {
      "cell_type": "code",
      "execution_count": null,
      "metadata": {
        "id": "7VgdleXkoq81",
        "outputId": "0169cdc8-abc7-4054-c8b8-d085b52a9b31"
      },
      "outputs": [
        {
          "data": {
            "text/plain": [
              "str"
            ]
          },
          "execution_count": 19,
          "metadata": {},
          "output_type": "execute_result"
        }
      ],
      "source": [
        "type(nome)"
      ]
    },
    {
      "cell_type": "code",
      "execution_count": null,
      "metadata": {
        "id": "ITECUcVqoq81",
        "outputId": "a68a3e4f-451b-494d-c73c-ba3aedcb8741"
      },
      "outputs": [
        {
          "data": {
            "text/plain": [
              "str"
            ]
          },
          "execution_count": 20,
          "metadata": {},
          "output_type": "execute_result"
        }
      ],
      "source": [
        "type(idade)"
      ]
    },
    {
      "cell_type": "code",
      "execution_count": null,
      "metadata": {
        "id": "MXJvAtQCoq81"
      },
      "outputs": [],
      "source": [
        "idade = 25\n",
        "\n",
        "'Olá! meu nome é ' + nome + ', tenho ' + idade + ' anos e moro em ' + cidade"
      ]
    },
    {
      "cell_type": "code",
      "execution_count": null,
      "metadata": {
        "id": "VSydjQ1Roq82",
        "outputId": "23a4ff81-3b54-4f31-94c7-bfca673ebbff"
      },
      "outputs": [
        {
          "data": {
            "text/plain": [
              "float"
            ]
          },
          "execution_count": 22,
          "metadata": {},
          "output_type": "execute_result"
        }
      ],
      "source": [
        "type(10.5)"
      ]
    },
    {
      "cell_type": "markdown",
      "metadata": {
        "id": "hJnbOTSboq82"
      },
      "source": [
        "**Existem outros tipos de dados?**"
      ]
    },
    {
      "cell_type": "code",
      "execution_count": null,
      "metadata": {
        "id": "O8C_68KVoq83",
        "outputId": "3554d162-02f8-48d9-f74f-3aa58b2ead4a"
      },
      "outputs": [
        {
          "data": {
            "text/plain": [
              "datetime.datetime(2023, 5, 8, 17, 31, 34, 865227)"
            ]
          },
          "execution_count": 23,
          "metadata": {},
          "output_type": "execute_result"
        }
      ],
      "source": [
        "from datetime import datetime\n",
        "\n",
        "data = datetime.now()\n",
        "\n",
        "data"
      ]
    },
    {
      "cell_type": "code",
      "execution_count": null,
      "metadata": {
        "id": "2aY9e8hloq83",
        "outputId": "8193e7df-0cb9-4d2e-a278-64f1595e93c5"
      },
      "outputs": [
        {
          "data": {
            "text/plain": [
              "datetime.datetime"
            ]
          },
          "execution_count": 24,
          "metadata": {},
          "output_type": "execute_result"
        }
      ],
      "source": [
        "type(data)"
      ]
    },
    {
      "cell_type": "markdown",
      "metadata": {
        "id": "u-cnF1dDoq84"
      },
      "source": [
        "## Olhando para o lado...\n",
        "\n",
        "- [Online C Compiler.](https://www.onlinegdb.com/online_c_compiler)\n",
        "\n",
        "```\n",
        "# include <stdio.h>\n",
        "\n",
        "int main(void){\n",
        "    int num;\n",
        "    num = 10;\n",
        "    \n",
        "    printf(\"O programa A imprime o n ́umero %d\\n\",num);\n",
        "    \n",
        "    return 1;\n",
        "}\n",
        "```\n",
        "\n",
        "- [Welcome to a tour of Go](https://go.dev/tour/list)\n",
        "- [Variáveis em Golang - Um tour por Go](https://go-tour-br.appspot.com/basics/8)"
      ]
    },
    {
      "cell_type": "markdown",
      "metadata": {
        "id": "UqYyJoqWoq84"
      },
      "source": [
        "## DICA DO DIA\n",
        "\n",
        "### Mas e se eu quiser receber dados da usuária pra executar o meu programa?"
      ]
    },
    {
      "cell_type": "markdown",
      "metadata": {
        "id": "bckpM8bWoq84"
      },
      "source": [
        "Você conhece a instrução `input()`? Execute o código abaixo pra saber como ela funciona:\n",
        "\n",
        "> ##### Dica: depois de digitar o valor desejado tecle enter"
      ]
    },
    {
      "cell_type": "code",
      "execution_count": null,
      "metadata": {
        "id": "mMWvFemvoq85",
        "outputId": "0a6752ce-9c7b-43f3-de83-5d9531480efe",
        "colab": {
          "base_uri": "https://localhost:8080/"
        }
      },
      "outputs": [
        {
          "output_type": "stream",
          "name": "stdout",
          "text": [
            "Entre com o 1º valor: 6\n",
            "Entre com o 2º valor: 7\n",
            "A soma é dos valores é  13\n"
          ]
        }
      ],
      "source": [
        "num1 = input('Entre com o 1º valor: ')\n",
        "\n",
        "num2 = input('Entre com o 2º valor: ')\n",
        "\n",
        "soma = int(num1) + int(num2)\n",
        "\n",
        "print(\"A soma é dos valores é \", soma)"
      ]
    },
    {
      "cell_type": "markdown",
      "metadata": {
        "id": "hzfIXe2voq86"
      },
      "source": [
        "> ##### Saiba mais sobre `input()` no tutorial [Função input e print no Python: Entrada e Saída de dados](https://pythonacademy.com.br/blog/input-e-print-entrada-e-saida-de-dados-no-python)"
      ]
    },
    {
      "cell_type": "markdown",
      "metadata": {
        "id": "DA_VW-aqoq9c"
      },
      "source": [
        "## Exercícios"
      ]
    },
    {
      "cell_type": "markdown",
      "metadata": {
        "id": "UK_FBQMooq9c"
      },
      "source": [
        "1) Em uma instrução `print()`, o que acontece se você omitir um dos parênteses ou ambos?"
      ]
    },
    {
      "cell_type": "code",
      "execution_count": null,
      "metadata": {
        "id": "hZqN8Qkyoq9d",
        "outputId": "96704717-a9bf-4133-c987-1d55b69cacb0",
        "colab": {
          "base_uri": "https://localhost:8080/"
        }
      },
      "outputs": [
        {
          "output_type": "stream",
          "name": "stdout",
          "text": [
            "Anna\n"
          ]
        }
      ],
      "source": [
        "\n",
        "\n",
        "print('Anna')\n"
      ]
    },
    {
      "cell_type": "code",
      "source": [
        "print('Anna'"
      ],
      "metadata": {
        "colab": {
          "base_uri": "https://localhost:8080/",
          "height": 130
        },
        "id": "i5T_xIIm97Z_",
        "outputId": "e2472744-b2d7-4bc3-a7d0-edf74f45c4b3"
      },
      "execution_count": null,
      "outputs": [
        {
          "output_type": "error",
          "ename": "SyntaxError",
          "evalue": "ignored",
          "traceback": [
            "\u001b[0;36m  File \u001b[0;32m\"<ipython-input-9-2563ff3572d8>\"\u001b[0;36m, line \u001b[0;32m1\u001b[0m\n\u001b[0;31m    print('Anna'\u001b[0m\n\u001b[0m                ^\u001b[0m\n\u001b[0;31mSyntaxError\u001b[0m\u001b[0;31m:\u001b[0m incomplete input\n"
          ]
        }
      ]
    },
    {
      "cell_type": "markdown",
      "metadata": {
        "id": "30n8mt55oq9d"
      },
      "source": [
        "2) O que acontece se você tentar usar 02 + 05 no Python?"
      ]
    },
    {
      "cell_type": "code",
      "source": [
        "#\n",
        "02+05"
      ],
      "metadata": {
        "colab": {
          "base_uri": "https://localhost:8080/",
          "height": 130
        },
        "id": "jPitKQvT-NRX",
        "outputId": "6ceef99a-39dc-4aa3-fd22-e9998e014143"
      },
      "execution_count": null,
      "outputs": [
        {
          "output_type": "error",
          "ename": "SyntaxError",
          "evalue": "ignored",
          "traceback": [
            "\u001b[0;36m  File \u001b[0;32m\"<ipython-input-10-6afc9c8eff62>\"\u001b[0;36m, line \u001b[0;32m1\u001b[0m\n\u001b[0;31m    02+05\u001b[0m\n\u001b[0m    ^\u001b[0m\n\u001b[0;31mSyntaxError\u001b[0m\u001b[0;31m:\u001b[0m leading zeros in decimal integer literals are not permitted; use an 0o prefix for octal integers\n"
          ]
        }
      ]
    },
    {
      "cell_type": "code",
      "source": [
        "0.2+0.5"
      ],
      "metadata": {
        "colab": {
          "base_uri": "https://localhost:8080/"
        },
        "id": "Y52OsPCB_nBZ",
        "outputId": "ea442c19-2851-4c52-c2e3-0000dbc4ea0b"
      },
      "execution_count": null,
      "outputs": [
        {
          "output_type": "execute_result",
          "data": {
            "text/plain": [
              "0.7"
            ]
          },
          "metadata": {},
          "execution_count": 11
        }
      ]
    },
    {
      "cell_type": "markdown",
      "source": [],
      "metadata": {
        "id": "g_LGQU63-5ON"
      }
    },
    {
      "cell_type": "markdown",
      "metadata": {
        "id": "yPV2ImwHoq9e"
      },
      "source": [
        "3. Faça um algoritmo que solicite a entrada do nome, idade e cidade e exiba a seguinte mensagem:\n",
        "\n",
        "> _'Olá! meu nome é Aya, tenho 25 anos e moro em Salvador'_"
      ]
    },
    {
      "cell_type": "code",
      "source": [
        "nome= input('digite seu nome ') \n",
        "idade= input('digite sua idade ')\n",
        "cidade= input('digite sua cidade ')\n",
        "print('Olá! meu nome é ' + nome + ', tenho ' + idade + ' anos e moro em ' + cidade)"
      ],
      "metadata": {
        "id": "PwuKrj5Y5gs2",
        "outputId": "5474b1ac-479c-41d7-f4e0-6816f79f8856",
        "colab": {
          "base_uri": "https://localhost:8080/"
        }
      },
      "execution_count": null,
      "outputs": [
        {
          "output_type": "stream",
          "name": "stdout",
          "text": [
            "digite seu nome Anna\n",
            "digite sua idade 23\n",
            "digite sua cidade São Paulo\n",
            "Olá! meu nome é Anna, tenho 23 anos e moro em São Paulo\n"
          ]
        }
      ]
    },
    {
      "cell_type": "code",
      "source": [
        "nome- input('Digite')"
      ],
      "metadata": {
        "id": "0JAQlD9fBdop"
      },
      "execution_count": null,
      "outputs": []
    },
    {
      "cell_type": "markdown",
      "metadata": {
        "id": "0AhFiA6Moq9f"
      },
      "source": [
        "4) Quantos segundos há em 42 minutos e 42 segundos?"
      ]
    },
    {
      "cell_type": "code",
      "execution_count": null,
      "metadata": {
        "id": "kGlDxlyXoq9f",
        "colab": {
          "base_uri": "https://localhost:8080/"
        },
        "outputId": "6cb397a6-daa1-4d61-d87a-d1e51c8f1f50"
      },
      "outputs": [
        {
          "output_type": "stream",
          "name": "stdout",
          "text": [
            "segundosT\n"
          ]
        }
      ],
      "source": [
        "# sabendo que 1 min tem 60 seg, p calcular temos que fazer 42*60=   e depois se soma os 42seg\n",
        "segundosT= 42*60+42\n",
        "print('segundosT')\n"
      ]
    },
    {
      "cell_type": "markdown",
      "metadata": {
        "id": "Pbz3_J77oq9f"
      },
      "source": [
        "5) Vimos que `n = 42` é funciona. E `42 = n`?"
      ]
    },
    {
      "cell_type": "code",
      "execution_count": null,
      "metadata": {
        "id": "eXThAHsQoq9g"
      },
      "outputs": [],
      "source": [
        "#VARIAVEL SEMPRE TEM Q COMEÇAR COM LETRA E DEPOIS ADC O NUMERAL\n",
        "n=42"
      ]
    },
    {
      "cell_type": "code",
      "source": [
        "42=n\n"
      ],
      "metadata": {
        "colab": {
          "base_uri": "https://localhost:8080/",
          "height": 130
        },
        "id": "qa90HRlzDUgD",
        "outputId": "fc70dafd-a990-482d-eebc-b56b96c9e5cc"
      },
      "execution_count": null,
      "outputs": [
        {
          "output_type": "error",
          "ename": "SyntaxError",
          "evalue": "ignored",
          "traceback": [
            "\u001b[0;36m  File \u001b[0;32m\"<ipython-input-17-94a448c80b86>\"\u001b[0;36m, line \u001b[0;32m1\u001b[0m\n\u001b[0;31m    42=n\u001b[0m\n\u001b[0m    ^\u001b[0m\n\u001b[0;31mSyntaxError\u001b[0m\u001b[0;31m:\u001b[0m cannot assign to literal here. Maybe you meant '==' instead of '='?\n"
          ]
        }
      ]
    },
    {
      "cell_type": "markdown",
      "metadata": {
        "id": "BEiutDRHoq9g"
      },
      "source": [
        "6) Qual é o resultado da expressão `x = y = 1`? Você consegue explicar o que aconteceu aqui?"
      ]
    },
    {
      "cell_type": "code",
      "execution_count": null,
      "metadata": {
        "id": "71LvDAHKoq9h",
        "colab": {
          "base_uri": "https://localhost:8080/"
        },
        "outputId": "3394f963-77a2-469c-f342-d5f433612b4f"
      },
      "outputs": [
        {
          "output_type": "stream",
          "name": "stdout",
          "text": [
            "x\n",
            "y\n",
            "1\n"
          ]
        }
      ],
      "source": [
        "#o x recebe o valor de Y; o Y recebe o valor de 1\n",
        "x = y = 1\n",
        "print('x')\n",
        "print('y')\n",
        "print('1')"
      ]
    },
    {
      "cell_type": "markdown",
      "metadata": {
        "id": "j2w1kKIUoq9h"
      },
      "source": [
        "7) O que acontece se você puser um ponto e vírgula no fim de uma instrução no Python? E um ponto?"
      ]
    },
    {
      "cell_type": "code",
      "source": [
        "print('Anna.');"
      ],
      "metadata": {
        "colab": {
          "base_uri": "https://localhost:8080/"
        },
        "id": "8lQrS5K0FwCG",
        "outputId": "45072629-1d96-4862-a591-e1bac8d0c723"
      },
      "execution_count": null,
      "outputs": [
        {
          "output_type": "stream",
          "name": "stdout",
          "text": [
            "Anna.\n"
          ]
        }
      ]
    },
    {
      "cell_type": "code",
      "execution_count": null,
      "metadata": {
        "id": "O4SYzHz6oq9h",
        "colab": {
          "base_uri": "https://localhost:8080/",
          "height": 130
        },
        "outputId": "cdf0285c-bfcc-4688-a19e-aee4312c2664"
      },
      "outputs": [
        {
          "output_type": "error",
          "ename": "SyntaxError",
          "evalue": "ignored",
          "traceback": [
            "\u001b[0;36m  File \u001b[0;32m\"<ipython-input-15-e813d891ef2f>\"\u001b[0;36m, line \u001b[0;32m1\u001b[0m\n\u001b[0;31m    print('anna.').\u001b[0m\n\u001b[0m                   ^\u001b[0m\n\u001b[0;31mSyntaxError\u001b[0m\u001b[0;31m:\u001b[0m invalid syntax\n"
          ]
        }
      ],
      "source": [
        "print('anna.').\n",
        "#o ponto p PY é um operador de acesso"
      ]
    },
    {
      "cell_type": "markdown",
      "metadata": {
        "id": "MBRzpF9joq9i"
      },
      "source": [
        "8) Em notação matemática é possível multiplicar x e y desta forma: xy. O que acontece se você tentar fazer o mesmo no Python?\n",
        "\n",
        "```python\n",
        "x = 2\n",
        "y = 8\n",
        "\n",
        "xy\n",
        "```"
      ]
    },
    {
      "cell_type": "code",
      "source": [],
      "metadata": {
        "id": "lS77EX_9H8P2"
      },
      "execution_count": null,
      "outputs": []
    },
    {
      "cell_type": "code",
      "execution_count": null,
      "metadata": {
        "id": "5hokQBG0oq9i",
        "colab": {
          "base_uri": "https://localhost:8080/",
          "height": 200
        },
        "outputId": "d3c53144-9ec1-4b69-cb16-75d64389c83d"
      },
      "outputs": [
        {
          "output_type": "error",
          "ename": "NameError",
          "evalue": "ignored",
          "traceback": [
            "\u001b[0;31m---------------------------------------------------------------------------\u001b[0m",
            "\u001b[0;31mNameError\u001b[0m                                 Traceback (most recent call last)",
            "\u001b[0;32m<ipython-input-24-315783f7a646>\u001b[0m in \u001b[0;36m<cell line: 3>\u001b[0;34m()\u001b[0m\n\u001b[1;32m      1\u001b[0m \u001b[0mx\u001b[0m\u001b[0;34m=\u001b[0m\u001b[0;36m2\u001b[0m\u001b[0;34m\u001b[0m\u001b[0;34m\u001b[0m\u001b[0m\n\u001b[1;32m      2\u001b[0m \u001b[0my\u001b[0m\u001b[0;34m=\u001b[0m\u001b[0;36m8\u001b[0m\u001b[0;34m\u001b[0m\u001b[0;34m\u001b[0m\u001b[0m\n\u001b[0;32m----> 3\u001b[0;31m \u001b[0mxy\u001b[0m\u001b[0;34m\u001b[0m\u001b[0;34m\u001b[0m\u001b[0m\n\u001b[0m",
            "\u001b[0;31mNameError\u001b[0m: name 'xy' is not defined"
          ]
        }
      ],
      "source": [
        "x=2\n",
        "y=8\n",
        "xy\n",
        "#ele ve (xy) pq esta declarando como variavel"
      ]
    },
    {
      "cell_type": "markdown",
      "metadata": {
        "id": "1gvVQNMJoq9i"
      },
      "source": [
        "9) O que significa a saída do código abaixo?\n",
        "\n",
        "```python\n",
        "nome = 'Curso Livre Aya'\n",
        "type(nome)\n",
        "```"
      ]
    },
    {
      "cell_type": "code",
      "execution_count": null,
      "metadata": {
        "id": "Bz2skCWroq9j",
        "colab": {
          "base_uri": "https://localhost:8080/"
        },
        "outputId": "d81def00-d8a0-4836-fd68-cf33b5e909f8"
      },
      "outputs": [
        {
          "output_type": "execute_result",
          "data": {
            "text/plain": [
              "str"
            ]
          },
          "metadata": {},
          "execution_count": 25
        }
      ],
      "source": [
        "nome = 'curso livre aya'\n",
        "type(nome)\n"
      ]
    },
    {
      "cell_type": "markdown",
      "metadata": {
        "id": "ZCLtiItvoq9j"
      },
      "source": [
        "10) Reproduza um erro de sintaxe"
      ]
    },
    {
      "cell_type": "code",
      "execution_count": null,
      "metadata": {
        "id": "T8Fxbt3Hoq9k",
        "colab": {
          "base_uri": "https://localhost:8080/",
          "height": 130
        },
        "outputId": "bcb32738-9bbc-427b-820c-c9ff8bea48b7"
      },
      "outputs": [
        {
          "output_type": "error",
          "ename": "SyntaxError",
          "evalue": "ignored",
          "traceback": [
            "\u001b[0;36m  File \u001b[0;32m\"<ipython-input-26-7c04a0745105>\"\u001b[0;36m, line \u001b[0;32m1\u001b[0m\n\u001b[0;31m    cidade= (Sao paulo)\u001b[0m\n\u001b[0m             ^\u001b[0m\n\u001b[0;31mSyntaxError\u001b[0m\u001b[0;31m:\u001b[0m invalid syntax. Perhaps you forgot a comma?\n"
          ]
        }
      ],
      "source": [
        "cidade= (Sao paulo)"
      ]
    },
    {
      "cell_type": "markdown",
      "metadata": {
        "id": "ChNBbj69oq9l"
      },
      "source": [
        "11) Reproduza um erro de identação"
      ]
    },
    {
      "cell_type": "code",
      "execution_count": null,
      "metadata": {
        "id": "5yhUsgpdoq9l",
        "colab": {
          "base_uri": "https://localhost:8080/",
          "height": 130
        },
        "outputId": "de45154b-6d25-4c3e-e6f2-c940da190dec"
      },
      "outputs": [
        {
          "output_type": "error",
          "ename": "IndentationError",
          "evalue": "ignored",
          "traceback": [
            "\u001b[0;36m  File \u001b[0;32m\"<ipython-input-27-edaa8abd56c0>\"\u001b[0;36m, line \u001b[0;32m4\u001b[0m\n\u001b[0;31m    print(idade+nome)\u001b[0m\n\u001b[0m    ^\u001b[0m\n\u001b[0;31mIndentationError\u001b[0m\u001b[0;31m:\u001b[0m unexpected indent\n"
          ]
        }
      ],
      "source": [
        "#identação seria o espaço antes do texto 'margem'\n",
        "idade=23\n",
        "nome= Anna\n",
        " print(idade+nome)"
      ]
    },
    {
      "cell_type": "markdown",
      "metadata": {
        "id": "hPWxoHi1oq9l"
      },
      "source": [
        "12. Escreva um programa que calcule a soma de três variáveis e imprima o resultado na tela"
      ]
    },
    {
      "cell_type": "code",
      "execution_count": null,
      "metadata": {
        "id": "gVwBnicFoq9m",
        "colab": {
          "base_uri": "https://localhost:8080/"
        },
        "outputId": "86d5a2ac-0784-4bbd-b691-c8732470d5ab"
      },
      "outputs": [
        {
          "output_type": "stream",
          "name": "stdout",
          "text": [
            "o valor da soma é: 60\n"
          ]
        }
      ],
      "source": [
        "v1=30\n",
        "v2=20\n",
        "v3=10\n",
        "soma= v1+v2+v3\n",
        "print('o valor da soma é:', soma)"
      ]
    },
    {
      "cell_type": "markdown",
      "metadata": {
        "id": "hLbscIy9oq9m"
      },
      "source": [
        "13. Escreva um programa que receba três variáveis, calcule sua soma e imprima o resultado na tela"
      ]
    },
    {
      "cell_type": "code",
      "execution_count": null,
      "metadata": {
        "id": "IMIwtxdQoq9n"
      },
      "outputs": [],
      "source": []
    },
    {
      "cell_type": "markdown",
      "metadata": {
        "id": "onX96YP8oq9n"
      },
      "source": [
        "14. Como podemos calcular o aumento do salário de Vanessa em Python?\n",
        "\n",
        "> Vanessa ganha R$ 2.500,00 e deseja um aumento de 60% do seu salário"
      ]
    },
    {
      "cell_type": "code",
      "source": [
        "salario=2500\n",
        "percentual= 0.60\n",
        "valorPercentual= salario+percentual\n"
      ],
      "metadata": {
        "id": "-GdnnLXUMLfR"
      },
      "execution_count": null,
      "outputs": []
    },
    {
      "cell_type": "markdown",
      "metadata": {
        "id": "GgS0e8Bgoq9o"
      },
      "source": [
        "15. Escreva um programa que receba 2 variáveis e imprima na tela se elas são iguais ou não."
      ]
    },
    {
      "cell_type": "code",
      "execution_count": null,
      "metadata": {
        "id": "atXvicacoq9o"
      },
      "outputs": [],
      "source": []
    },
    {
      "cell_type": "markdown",
      "metadata": {
        "id": "vJ10xPt4oq9o"
      },
      "source": [
        "16. Escreva um programa que receba 2 variáveis e imprima na tela se a primeira variável é maior do que a segunda ou não."
      ]
    },
    {
      "cell_type": "markdown",
      "metadata": {
        "id": "4bCSCCcgoq9q"
      },
      "source": [
        "---"
      ]
    },
    {
      "cell_type": "markdown",
      "metadata": {
        "id": "jPi8-e3Poq9q"
      },
      "source": [
        "## Quais são as outras formas de praticar esses conceitos?\n",
        "\n",
        "<img src=\"https://media.giphy.com/media/v1.Y2lkPTc5MGI3NjExODY0Yjk5YmE5YjMyZjFiOTBiNGZkMWE0Y2NjNmQ4Njg4ZjA0MDBjOCZlcD12MV9pbnRlcm5hbF9naWZzX2dpZklkJmN0PWc/26tPghhb310muUkEw/giphy.gif\" align=\"left\">"
      ]
    },
    {
      "cell_type": "code",
      "source": [
        "print('OI BOM DIA')\n",
        "msg= ('bom dia') \n",
        "print(msg)"
      ],
      "metadata": {
        "colab": {
          "base_uri": "https://localhost:8080/"
        },
        "id": "c-iA8Kwkw7Nm",
        "outputId": "9f49372f-8414-4123-d018-b5ebe30ad985"
      },
      "execution_count": null,
      "outputs": [
        {
          "output_type": "stream",
          "name": "stdout",
          "text": [
            "OI BOM DIA\n",
            "bom dia\n"
          ]
        }
      ]
    },
    {
      "cell_type": "markdown",
      "metadata": {
        "id": "Q58PhKrIoq9r"
      },
      "source": [
        "<Adicionar atividade de sua preferência para aplicação dos conceitos>"
      ]
    }
  ],
  "metadata": {
    "kernelspec": {
      "display_name": "Python 3 (ipykernel)",
      "language": "python",
      "name": "python3"
    },
    "language_info": {
      "codemirror_mode": {
        "name": "ipython",
        "version": 3
      },
      "file_extension": ".py",
      "mimetype": "text/x-python",
      "name": "python",
      "nbconvert_exporter": "python",
      "pygments_lexer": "ipython3",
      "version": "3.10.9"
    },
    "colab": {
      "provenance": [],
      "include_colab_link": true
    }
  },
  "nbformat": 4,
  "nbformat_minor": 0
}